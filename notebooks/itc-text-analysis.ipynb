{
 "metadata": {
  "language_info": {
   "codemirror_mode": {
    "name": "ipython",
    "version": 3
   },
   "file_extension": ".py",
   "mimetype": "text/x-python",
   "name": "python",
   "nbconvert_exporter": "python",
   "pygments_lexer": "ipython3",
   "version": "3.9.1-final"
  },
  "orig_nbformat": 2,
  "kernelspec": {
   "name": "python3",
   "display_name": "Python 3.9.1 64-bit",
   "metadata": {
    "interpreter": {
     "hash": "aee8b7b246df8f9039afb4144a1f6fd8d2ca17a180786b69acc140d282b71a49"
    }
   }
  }
 },
 "nbformat": 4,
 "nbformat_minor": 2,
 "cells": [
  {
   "source": [
    "# In the Time of COVID: A text and sentiment analysis of individual stories in the time of the SARS-CoV-2 pandemic\n",
    "#### by Diedre Brown, Pratt Institute, Spring 2021"
   ],
   "cell_type": "markdown",
   "metadata": {}
  },
  {
   "source": [
    "Inspired by the Date Paintings of Japanese conceptual artist, On Kawara, and the (Süd-) Koreanischer Kalender / (South) Korean Calendar (1991) created by German conceptual artist, Hanne Darboven, this project used an online survey to collect pertinent dates and stories of thirteen (13) individuals during the COVID-19 pandemic (1 January 2020). The data was cleaned and analyzed via text and sentiment anlysis. As part of a prototype to visualize both quantitative and qualitative data, this analysis will contribute to an ongoing \"data display\" project that will allow users to not only trace the reported COVID cases and death tolls by date, but some personal sentiments and/or reflections of people as well."
   ],
   "cell_type": "markdown",
   "metadata": {}
  },
  {
   "source": [
    "### Import Libraries"
   ],
   "cell_type": "markdown",
   "metadata": {}
  },
  {
   "cell_type": "code",
   "execution_count": 1,
   "metadata": {},
   "outputs": [],
   "source": [
    "# standard libraries\n",
    "import pandas as pd\n",
    "import numpy as np\n",
    "import matplotlib.pyplot as plt\n",
    "import seaborn as sns\n",
    "import itertools\n",
    "import os\n",
    "import re"
   ]
  },
  {
   "cell_type": "code",
   "execution_count": 2,
   "metadata": {},
   "outputs": [],
   "source": [
    "%matplotlib inline\n",
    "#makes inline plots to have better quality\n",
    "%config InlineBackend.figure_format = 'png'\n",
    "#set the default style to be colorblind friendly\n",
    "plt.style.use(\"seaborn-colorblind\")"
   ]
  },
  {
   "cell_type": "code",
   "execution_count": 3,
   "metadata": {},
   "outputs": [],
   "source": [
    "pd.set_option('mode.chained_assignment', None)"
   ]
  },
  {
   "cell_type": "code",
   "execution_count": 4,
   "metadata": {},
   "outputs": [
    {
     "output_type": "execute_result",
     "data": {
      "text/plain": [
       "True"
      ]
     },
     "metadata": {},
     "execution_count": 4
    }
   ],
   "source": [
    "# Scikit Learn Libraries\n",
    "import sklearn\n",
    "sklearn.__version__>=\"0.20\""
   ]
  },
  {
   "cell_type": "code",
   "execution_count": 5,
   "metadata": {},
   "outputs": [],
   "source": [
    "from sklearn import linear_model\n",
    "from sklearn.preprocessing import LabelEncoder\n",
    "from sklearn.preprocessing import StandardScaler, MinMaxScaler\n",
    "from sklearn.model_selection import train_test_split\n",
    "from sklearn import metrics\n",
    "from sklearn.metrics import confusion_matrix, classification_report\n",
    "from sklearn.linear_model import LinearRegression,ElasticNetCV\n",
    "from sklearn.linear_model import LogisticRegression\n",
    "from sklearn.ensemble import RandomForestClassifier\n",
    "from sklearn.pipeline import Pipeline\n",
    "from sklearn.decomposition import LatentDirichletAllocation\n",
    "from sklearn.feature_extraction.text import CountVectorizer\n",
    "from sklearn.feature_extraction.text import TfidfVectorizer\n",
    "from sklearn.feature_extraction.text import TfidfTransformer\n",
    "from sklearn.naive_bayes import MultinomialNB"
   ]
  },
  {
   "cell_type": "code",
   "execution_count": 6,
   "metadata": {},
   "outputs": [
    {
     "output_type": "stream",
     "name": "stderr",
     "text": [
      "[nltk_data] Error loading words: <urlopen error [SSL:\n[nltk_data]     CERTIFICATE_VERIFY_FAILED] certificate verify failed:\n[nltk_data]     unable to get local issuer certificate (_ssl.c:1123)>\n[nltk_data] Error loading stopwords: <urlopen error [SSL:\n[nltk_data]     CERTIFICATE_VERIFY_FAILED] certificate verify failed:\n[nltk_data]     unable to get local issuer certificate (_ssl.c:1123)>\n"
     ]
    },
    {
     "output_type": "execute_result",
     "data": {
      "text/plain": [
       "False"
      ]
     },
     "metadata": {},
     "execution_count": 6
    }
   ],
   "source": [
    "# Natural Language Toolkit Library - NLTK\n",
    "import nltk\n",
    "nltk.download(\"words\")\n",
    "nltk.download(\"stopwords\")"
   ]
  },
  {
   "cell_type": "code",
   "execution_count": 7,
   "metadata": {},
   "outputs": [
    {
     "output_type": "stream",
     "name": "stdout",
     "text": [
      "Defaulting to user installation because normal site-packages is not writeable\n",
      "Collecting spacy\n",
      "  Using cached spacy-3.0.5-cp39-cp39-macosx_10_9_x86_64.whl (12.2 MB)\n",
      "Collecting thinc<8.1.0,>=8.0.2\n",
      "  Using cached thinc-8.0.2-cp39-cp39-macosx_10_9_x86_64.whl (1.1 MB)\n",
      "Collecting preshed<3.1.0,>=3.0.2\n",
      "  Using cached preshed-3.0.5-cp39-cp39-macosx_10_9_x86_64.whl (106 kB)\n",
      "Collecting cymem<2.1.0,>=2.0.2\n",
      "  Using cached cymem-2.0.5-cp39-cp39-macosx_10_9_x86_64.whl (32 kB)\n",
      "Collecting blis<0.8.0,>=0.4.0\n",
      "  Using cached blis-0.7.4-cp39-cp39-macosx_10_9_x86_64.whl (5.8 MB)\n",
      "Collecting wasabi<1.1.0,>=0.8.1\n",
      "  Using cached wasabi-0.8.2-py3-none-any.whl (23 kB)\n",
      "Requirement already satisfied: requests<3.0.0,>=2.13.0 in /Users/diedrebrown/Library/Python/3.9/lib/python/site-packages (from spacy) (2.25.1)\n",
      "Collecting pydantic<1.8.0,>=1.7.1\n",
      "  Using cached pydantic-1.7.3-cp39-cp39-macosx_10_9_x86_64.whl (2.4 MB)\n",
      "Collecting typer<0.4.0,>=0.3.0\n",
      "  Using cached typer-0.3.2-py3-none-any.whl (21 kB)\n",
      "Requirement already satisfied: jinja2 in /Users/diedrebrown/Library/Python/3.9/lib/python/site-packages (from spacy) (2.11.3)\n",
      "Collecting spacy-legacy<3.1.0,>=3.0.0\n",
      "  Using cached spacy_legacy-3.0.2-py2.py3-none-any.whl (7.8 kB)\n",
      "Requirement already satisfied: tqdm<5.0.0,>=4.38.0 in /Users/diedrebrown/Library/Python/3.9/lib/python/site-packages (from spacy) (4.60.0)\n",
      "Requirement already satisfied: numpy>=1.15.0 in /Users/diedrebrown/Library/Python/3.9/lib/python/site-packages (from spacy) (1.20.1)\n",
      "Requirement already satisfied: setuptools in /Library/Frameworks/Python.framework/Versions/3.9/lib/python3.9/site-packages (from spacy) (49.2.1)\n",
      "Collecting catalogue<2.1.0,>=2.0.1\n",
      "  Using cached catalogue-2.0.3-py3-none-any.whl (16 kB)\n",
      "Requirement already satisfied: packaging>=20.0 in /Users/diedrebrown/Library/Python/3.9/lib/python/site-packages (from spacy) (20.9)\n",
      "Collecting pathy>=0.3.5\n",
      "  Using cached pathy-0.4.0-py3-none-any.whl (36 kB)\n",
      "Collecting srsly<3.0.0,>=2.4.0\n",
      "  Using cached srsly-2.4.1-cp39-cp39-macosx_10_9_x86_64.whl (452 kB)\n",
      "Collecting murmurhash<1.1.0,>=0.28.0\n",
      "  Using cached murmurhash-1.0.5-cp39-cp39-macosx_10_9_x86_64.whl (18 kB)\n",
      "Requirement already satisfied: pyparsing>=2.0.2 in /Users/diedrebrown/Library/Python/3.9/lib/python/site-packages (from packaging>=20.0->spacy) (2.4.7)\n",
      "Collecting smart-open<4.0.0,>=2.2.0\n",
      "  Using cached smart_open-3.0.0.tar.gz (113 kB)\n",
      "Requirement already satisfied: certifi>=2017.4.17 in /Users/diedrebrown/Library/Python/3.9/lib/python/site-packages (from requests<3.0.0,>=2.13.0->spacy) (2020.12.5)\n",
      "Requirement already satisfied: urllib3<1.27,>=1.21.1 in /Users/diedrebrown/Library/Python/3.9/lib/python/site-packages (from requests<3.0.0,>=2.13.0->spacy) (1.26.3)\n",
      "Requirement already satisfied: idna<3,>=2.5 in /Users/diedrebrown/Library/Python/3.9/lib/python/site-packages (from requests<3.0.0,>=2.13.0->spacy) (2.10)\n",
      "Requirement already satisfied: chardet<5,>=3.0.2 in /Users/diedrebrown/Library/Python/3.9/lib/python/site-packages (from requests<3.0.0,>=2.13.0->spacy) (4.0.0)\n",
      "Requirement already satisfied: click<7.2.0,>=7.1.1 in /Users/diedrebrown/Library/Python/3.9/lib/python/site-packages (from typer<0.4.0,>=0.3.0->spacy) (7.1.2)\n",
      "Requirement already satisfied: MarkupSafe>=0.23 in /Users/diedrebrown/Library/Python/3.9/lib/python/site-packages (from jinja2->spacy) (1.1.1)\n",
      "Using legacy 'setup.py install' for smart-open, since package 'wheel' is not installed.\n",
      "Installing collected packages: murmurhash, cymem, catalogue, wasabi, typer, srsly, smart-open, pydantic, preshed, blis, thinc, spacy-legacy, pathy, spacy\n",
      "    Running setup.py install for smart-open ... \u001b[?25ldone\n",
      "\u001b[?25h\u001b[33m  WARNING: The script pathy is installed in '/Users/diedrebrown/Library/Python/3.9/bin' which is not on PATH.\n",
      "  Consider adding this directory to PATH or, if you prefer to suppress this warning, use --no-warn-script-location.\u001b[0m\n",
      "\u001b[33m  WARNING: The script spacy is installed in '/Users/diedrebrown/Library/Python/3.9/bin' which is not on PATH.\n",
      "  Consider adding this directory to PATH or, if you prefer to suppress this warning, use --no-warn-script-location.\u001b[0m\n",
      "Successfully installed blis-0.7.4 catalogue-2.0.3 cymem-2.0.5 murmurhash-1.0.5 pathy-0.4.0 preshed-3.0.5 pydantic-1.7.3 smart-open-3.0.0 spacy-3.0.5 spacy-legacy-3.0.2 srsly-2.4.1 thinc-8.0.2 typer-0.3.2 wasabi-0.8.2\n",
      "Note: you may need to restart the kernel to use updated packages.\n"
     ]
    }
   ],
   "source": [
    "pip install spacy"
   ]
  },
  {
   "cell_type": "code",
   "execution_count": 8,
   "metadata": {},
   "outputs": [],
   "source": [
    "# spaCy another Natural Language Processing library built for Python/Cython\n",
    "# spaCy has the fastest syntactic parser, which helps increase it's accuracy over nltk\n",
    "import string\n",
    "import spacy\n"
   ]
  },
  {
   "cell_type": "code",
   "execution_count": 9,
   "metadata": {},
   "outputs": [],
   "source": [
    "# import the logging library to expose the interface that the application code directly uses.\n",
    "import logging\n",
    "# logging levels\n",
    "# CRITICAL (50) - A serious error, indicating that the program itself may be unable to continue running.\n",
    "# ERROR (40) - Due to a more serious problem, the software has not been able to perform some function.\n",
    "# WARNING (30) - An indication that something unexpected happened, or indicative of some problem in the near future (e.g. 'disk space low'). The software is still working as expected.\n",
    "# INFO (20) - Confirmation that things are working as expected.\n",
    "# DEBUG (10) - Detailed information, typically of interest only when diagnosing problems.\n",
    "# NOTSET (0) -"
   ]
  },
  {
   "cell_type": "code",
   "execution_count": 10,
   "metadata": {},
   "outputs": [
    {
     "output_type": "stream",
     "name": "stderr",
     "text": [
      "2021-04-18 11:30:48,137 - INFO - initial log\n"
     ]
    }
   ],
   "source": [
    "logFormatter = '%(asctime)s - %(levelname)s - %(message)s' # logging formatted as time, level name, and message\n",
    "logging.basicConfig(format=logFormatter, level=logging.INFO) # sets the default logging level, and the log formatting\n",
    "logger = logging.getLogger(__name__) # \n",
    "# run first log\n",
    "logger.info(\"initial log\")\n",
    "\n"
   ]
  },
  {
   "cell_type": "code",
   "execution_count": null,
   "metadata": {},
   "outputs": [],
   "source": []
  },
  {
   "source": [
    "### Load Data"
   ],
   "cell_type": "markdown",
   "metadata": {}
  },
  {
   "cell_type": "code",
   "execution_count": 12,
   "metadata": {},
   "outputs": [],
   "source": [
    "df_survey_raw = pd.read_csv(\"/Users/diedrebrown/Desktop/GitHubRepos/inthetimeofcovid/data/ITCResponses-clean.csv\")"
   ]
  },
  {
   "cell_type": "code",
   "execution_count": 13,
   "metadata": {},
   "outputs": [
    {
     "output_type": "execute_result",
     "data": {
      "text/plain": [
       "               T  P Consent    Age  Gender    CDate  \\\n",
       "0  3/12/21 16:56  A     Yes  25-40  Female  3/11/20   \n",
       "1  3/13/21 16:45  B     Yes  25-40  Female  1/24/20   \n",
       "2  3/14/21 11:55  C     Yes  41-55  Female  3/13/20   \n",
       "3  3/14/21 12:44  D     Yes  25-40  Female  3/30/20   \n",
       "4  3/17/21 03:33  E     Yes  25-40    Male   3/8/20   \n",
       "\n",
       "                          CLocation  \\\n",
       "0  Surrey, British Columbia, Canada   \n",
       "1                 Brooklyn, NY, USA   \n",
       "2                 Brooklyn, NY, USA   \n",
       "3                  Radford, VA, USA   \n",
       "4                   Newark, NJ, USA   \n",
       "\n",
       "                                                 Mem  \\\n",
       "0  I recall having a team meeting at work with lo...   \n",
       "1  A lot of things came to my mind. It was hard t...   \n",
       "2  It was the day that I learned that public scho...   \n",
       "3  My Grandmother passed away and we couldn’t gri...   \n",
       "4  I hope this doesn’t feel like too ‘silly’ of a...   \n",
       "\n",
       "                                     3Wrds                       ColorB  \\\n",
       "0                Fun, overwhelming, tiring  I have no color deficiency.   \n",
       "1                 Chinese, friendly, funny  I have no color deficiency.   \n",
       "2            disbelief, confusion, concern  I have no color deficiency.   \n",
       "3                   Angry, Sunken, bitter   I have no color deficiency.   \n",
       "4  Exhilarating, overindulgent, inspiring   I have no color deficiency.   \n",
       "\n",
       "  ColorHex                                           ColorRes  \\\n",
       "0     NONE                                               NONE   \n",
       "1   CC0000    Red is the official color of Chinese New Year:)   \n",
       "2   660000              Red reminds me of school, and concern   \n",
       "3   330066                       It feels like a somber color   \n",
       "4   CC0000  The concert design largely used this color, so...   \n",
       "\n",
       "                                             Comment  \n",
       "0                                                NaN  \n",
       "1                         🥸 good luck with the study  \n",
       "2  Curious about color being associated with feel...  \n",
       "3                                                NaN  \n",
       "4  Again, this feels like such a silly answer giv...  "
      ],
      "text/html": "<div>\n<style scoped>\n    .dataframe tbody tr th:only-of-type {\n        vertical-align: middle;\n    }\n\n    .dataframe tbody tr th {\n        vertical-align: top;\n    }\n\n    .dataframe thead th {\n        text-align: right;\n    }\n</style>\n<table border=\"1\" class=\"dataframe\">\n  <thead>\n    <tr style=\"text-align: right;\">\n      <th></th>\n      <th>T</th>\n      <th>P</th>\n      <th>Consent</th>\n      <th>Age</th>\n      <th>Gender</th>\n      <th>CDate</th>\n      <th>CLocation</th>\n      <th>Mem</th>\n      <th>3Wrds</th>\n      <th>ColorB</th>\n      <th>ColorHex</th>\n      <th>ColorRes</th>\n      <th>Comment</th>\n    </tr>\n  </thead>\n  <tbody>\n    <tr>\n      <th>0</th>\n      <td>3/12/21 16:56</td>\n      <td>A</td>\n      <td>Yes</td>\n      <td>25-40</td>\n      <td>Female</td>\n      <td>3/11/20</td>\n      <td>Surrey, British Columbia, Canada</td>\n      <td>I recall having a team meeting at work with lo...</td>\n      <td>Fun, overwhelming, tiring</td>\n      <td>I have no color deficiency.</td>\n      <td>NONE</td>\n      <td>NONE</td>\n      <td>NaN</td>\n    </tr>\n    <tr>\n      <th>1</th>\n      <td>3/13/21 16:45</td>\n      <td>B</td>\n      <td>Yes</td>\n      <td>25-40</td>\n      <td>Female</td>\n      <td>1/24/20</td>\n      <td>Brooklyn, NY, USA</td>\n      <td>A lot of things came to my mind. It was hard t...</td>\n      <td>Chinese, friendly, funny</td>\n      <td>I have no color deficiency.</td>\n      <td>CC0000</td>\n      <td>Red is the official color of Chinese New Year:)</td>\n      <td>🥸 good luck with the study</td>\n    </tr>\n    <tr>\n      <th>2</th>\n      <td>3/14/21 11:55</td>\n      <td>C</td>\n      <td>Yes</td>\n      <td>41-55</td>\n      <td>Female</td>\n      <td>3/13/20</td>\n      <td>Brooklyn, NY, USA</td>\n      <td>It was the day that I learned that public scho...</td>\n      <td>disbelief, confusion, concern</td>\n      <td>I have no color deficiency.</td>\n      <td>660000</td>\n      <td>Red reminds me of school, and concern</td>\n      <td>Curious about color being associated with feel...</td>\n    </tr>\n    <tr>\n      <th>3</th>\n      <td>3/14/21 12:44</td>\n      <td>D</td>\n      <td>Yes</td>\n      <td>25-40</td>\n      <td>Female</td>\n      <td>3/30/20</td>\n      <td>Radford, VA, USA</td>\n      <td>My Grandmother passed away and we couldn’t gri...</td>\n      <td>Angry, Sunken, bitter</td>\n      <td>I have no color deficiency.</td>\n      <td>330066</td>\n      <td>It feels like a somber color</td>\n      <td>NaN</td>\n    </tr>\n    <tr>\n      <th>4</th>\n      <td>3/17/21 03:33</td>\n      <td>E</td>\n      <td>Yes</td>\n      <td>25-40</td>\n      <td>Male</td>\n      <td>3/8/20</td>\n      <td>Newark, NJ, USA</td>\n      <td>I hope this doesn’t feel like too ‘silly’ of a...</td>\n      <td>Exhilarating, overindulgent, inspiring</td>\n      <td>I have no color deficiency.</td>\n      <td>CC0000</td>\n      <td>The concert design largely used this color, so...</td>\n      <td>Again, this feels like such a silly answer giv...</td>\n    </tr>\n  </tbody>\n</table>\n</div>"
     },
     "metadata": {},
     "execution_count": 13
    }
   ],
   "source": [
    "df_survey_raw.head()"
   ]
  },
  {
   "cell_type": "code",
   "execution_count": 15,
   "metadata": {},
   "outputs": [
    {
     "output_type": "execute_result",
     "data": {
      "text/plain": [
       "(14, 13)"
      ]
     },
     "metadata": {},
     "execution_count": 15
    }
   ],
   "source": [
    "df_survey_raw.shape"
   ]
  },
  {
   "cell_type": "code",
   "execution_count": null,
   "metadata": {},
   "outputs": [],
   "source": []
  }
 ]
}