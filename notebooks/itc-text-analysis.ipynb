{
 "metadata": {
  "language_info": {
   "codemirror_mode": {
    "name": "ipython",
    "version": 3
   },
   "file_extension": ".py",
   "mimetype": "text/x-python",
   "name": "python",
   "nbconvert_exporter": "python",
   "pygments_lexer": "ipython3",
   "version": "3.9.1-final"
  },
  "orig_nbformat": 2,
  "kernelspec": {
   "name": "python3",
   "display_name": "Python 3.9.1 64-bit ('env': venv)",
   "metadata": {
    "interpreter": {
     "hash": "7e0c52648d2ea68ee5885afd32f25877aa8c869aa32cfe6043dcda09b9cda566"
    }
   }
  }
 },
 "nbformat": 4,
 "nbformat_minor": 2,
 "cells": [
  {
   "source": [
    "# In the Time of COVID: A text and sentiment analysis of individual stories in the time of the SARS-CoV-2 pandemic\n",
    "#### by Diedre Brown, Pratt Institute, Spring 2021"
   ],
   "cell_type": "markdown",
   "metadata": {}
  },
  {
   "source": [
    "Inspired by the Date Paintings of Japanese conceptual artist, On Kawara, and the (Süd-) Koreanischer Kalender / (South) Korean Calendar (1991) created by German conceptual artist, Hanne Darboven, this project used an online survey to collect pertinent dates and stories of thirteen (13) individuals during the COVID-19 pandemic (1 January 2020). The data was cleaned and analyzed via text and sentiment anlysis. As part of a prototype to visualize both quantitative and qualitative data, this analysis will contribute to an ongoing \"data display\" project that will allow users to not only trace the reported COVID cases and death tolls by date, but some personal sentiments and/or reflections of people as well."
   ],
   "cell_type": "markdown",
   "metadata": {}
  },
  {
   "source": [
    "### Import Libraries"
   ],
   "cell_type": "markdown",
   "metadata": {}
  },
  {
   "cell_type": "code",
   "execution_count": 2,
   "metadata": {},
   "outputs": [],
   "source": [
    "# standard libraries\n",
    "import pandas as pd\n",
    "import numpy as np\n",
    "import matplotlib.pyplot as plt\n",
    "import seaborn as sns\n",
    "import itertools\n",
    "import os\n",
    "import re"
   ]
  },
  {
   "cell_type": "code",
   "execution_count": 3,
   "metadata": {},
   "outputs": [],
   "source": [
    "%matplotlib inline\n",
    "#makes inline plots to have better quality\n",
    "%config InlineBackend.figure_format = 'png'\n",
    "#set the default style to be colorblind friendly\n",
    "plt.style.use(\"seaborn-colorblind\")"
   ]
  },
  {
   "cell_type": "code",
   "execution_count": 4,
   "metadata": {},
   "outputs": [],
   "source": [
    "pd.set_option('mode.chained_assignment', None)"
   ]
  },
  {
   "cell_type": "code",
   "execution_count": 5,
   "metadata": {},
   "outputs": [
    {
     "output_type": "execute_result",
     "data": {
      "text/plain": [
       "True"
      ]
     },
     "metadata": {},
     "execution_count": 5
    }
   ],
   "source": [
    "# Scikit Learn Libraries\n",
    "import sklearn\n",
    "sklearn.__version__>=\"0.20\""
   ]
  },
  {
   "cell_type": "code",
   "execution_count": 6,
   "metadata": {},
   "outputs": [],
   "source": [
    "from sklearn import linear_model\n",
    "from sklearn.preprocessing import LabelEncoder\n",
    "from sklearn.preprocessing import StandardScaler, MinMaxScaler\n",
    "from sklearn.model_selection import train_test_split\n",
    "from sklearn import metrics\n",
    "from sklearn.metrics import confusion_matrix, classification_report\n",
    "from sklearn.linear_model import LinearRegression,ElasticNetCV\n",
    "from sklearn.linear_model import LogisticRegression\n",
    "from sklearn.ensemble import RandomForestClassifier\n",
    "from sklearn.pipeline import Pipeline\n",
    "from sklearn.decomposition import LatentDirichletAllocation\n",
    "from sklearn.feature_extraction.text import CountVectorizer\n",
    "from sklearn.feature_extraction.text import TfidfVectorizer\n",
    "from sklearn.feature_extraction.text import TfidfTransformer\n",
    "from sklearn.naive_bayes import MultinomialNB"
   ]
  },
  {
   "cell_type": "code",
   "execution_count": 7,
   "metadata": {},
   "outputs": [],
   "source": [
    "# Natural Language Toolkit Library - NLTK\n",
    "import nltk\n",
    "from nltk.sentiment.vader import SentimentIntensityAnalyzer"
   ]
  },
  {
   "cell_type": "code",
   "execution_count": 8,
   "metadata": {},
   "outputs": [],
   "source": [
    "# spaCy another Natural Language Processing library built for Python/Cython\n",
    "# spaCy has the fastest syntactic parser, which helps increase it's accuracy over nltk\n",
    "import string\n",
    "import spacy\n"
   ]
  },
  {
   "cell_type": "code",
   "execution_count": 9,
   "metadata": {},
   "outputs": [
    {
     "output_type": "execute_result",
     "data": {
      "text/plain": [
       "<spacy.lang.en.English at 0x7fa3c0c5c580>"
      ]
     },
     "metadata": {},
     "execution_count": 9
    }
   ],
   "source": [
    "spacy.load('en_core_web_lg')"
   ]
  },
  {
   "cell_type": "code",
   "execution_count": 10,
   "metadata": {},
   "outputs": [],
   "source": [
    "from spacy.lang.en import English\n",
    "nlp = English() # use directly"
   ]
  },
  {
   "cell_type": "code",
   "execution_count": 11,
   "metadata": {},
   "outputs": [],
   "source": [
    "import plotly.express as px #plotly express\n",
    "import plotly.graph_objects as go #plotly graph objects\n",
    "# dash stuff\n",
    "from jupyter_dash import JupyterDash\n",
    "import dash_core_components as dcc\n",
    "import dash_html_components as html\n",
    "from dash.dependencies import Input, Output"
   ]
  },
  {
   "cell_type": "code",
   "execution_count": 12,
   "metadata": {},
   "outputs": [],
   "source": [
    "# import the logging library to expose the interface that the application code directly uses.\n",
    "import logging\n",
    "# logging levels\n",
    "# CRITICAL (50) - A serious error, indicating that the program itself may be unable to continue running.\n",
    "# ERROR (40) - Due to a more serious problem, the software has not been able to perform some function.\n",
    "# WARNING (30) - An indication that something unexpected happened, or indicative of some problem in the near future (e.g. 'disk space low'). The software is still working as expected.\n",
    "# INFO (20) - Confirmation that things are working as expected.\n",
    "# DEBUG (10) - Detailed information, typically of interest only when diagnosing problems.\n",
    "# NOTSET (0) -"
   ]
  },
  {
   "cell_type": "code",
   "execution_count": 13,
   "metadata": {},
   "outputs": [
    {
     "output_type": "stream",
     "name": "stderr",
     "text": [
      "2021-04-19 13:42:24,445 - INFO - initial log\n"
     ]
    }
   ],
   "source": [
    "logFormatter = '%(asctime)s - %(levelname)s - %(message)s' # logging formatted as time, level name, and message\n",
    "logging.basicConfig(format=logFormatter, level=logging.INFO) # sets the default logging level, and the log formatting\n",
    "logger = logging.getLogger(__name__) # \n",
    "# run first log\n",
    "logger.info(\"initial log\")\n",
    "\n"
   ]
  },
  {
   "source": [
    "### Load Data"
   ],
   "cell_type": "markdown",
   "metadata": {}
  },
  {
   "cell_type": "code",
   "execution_count": 14,
   "metadata": {},
   "outputs": [],
   "source": [
    "df_survey_raw = pd.read_csv(\"/Users/diedrebrown/Desktop/GitHubRepos/inthetimeofcovid/data/ITCResponses-clean.csv\")"
   ]
  },
  {
   "cell_type": "code",
   "execution_count": 15,
   "metadata": {},
   "outputs": [
    {
     "output_type": "execute_result",
     "data": {
      "text/plain": [
       "   P    Age  Gender    CDate     CCity            CState Ccountry-iso_alpha  \\\n",
       "0  A  25-40  Female  3/11/20    Surrey  British Columbia                CAN   \n",
       "1  B  25-40  Female  1/24/20  Brooklyn          New York                USA   \n",
       "2  C  41-55  Female  3/13/20  Brooklyn          New York                USA   \n",
       "3  D  25-40  Female  3/30/20   Radford           Virgina                USA   \n",
       "4  E  25-40    Male   3/8/20    Newark        New Jersey                USA   \n",
       "\n",
       "                                                 Mem  \\\n",
       "0  I recall having a team meeting at work with lo...   \n",
       "1  A lot of things came to my mind. It was hard t...   \n",
       "2  It was the day that I learned that public scho...   \n",
       "3  My Grandmother passed away and we couldn’t gri...   \n",
       "4  I hope this doesn’t feel like too ‘silly’ of a...   \n",
       "\n",
       "                                     3Wrds                       ColorB  \\\n",
       "0                Fun, overwhelming, tiring  I have no color deficiency.   \n",
       "1                 Chinese, friendly, funny  I have no color deficiency.   \n",
       "2            disbelief, confusion, concern  I have no color deficiency.   \n",
       "3                   Angry, Sunken, bitter   I have no color deficiency.   \n",
       "4  Exhilarating, overindulgent, inspiring   I have no color deficiency.   \n",
       "\n",
       "  ColorHex                                           ColorRes  \n",
       "0     NONE                                               NONE  \n",
       "1  #CC0000    Red is the official color of Chinese New Year:)  \n",
       "2  #660000              Red reminds me of school, and concern  \n",
       "3  #330066                       It feels like a somber color  \n",
       "4  #CC0000  The concert design largely used this color, so...  "
      ],
      "text/html": "<div>\n<style scoped>\n    .dataframe tbody tr th:only-of-type {\n        vertical-align: middle;\n    }\n\n    .dataframe tbody tr th {\n        vertical-align: top;\n    }\n\n    .dataframe thead th {\n        text-align: right;\n    }\n</style>\n<table border=\"1\" class=\"dataframe\">\n  <thead>\n    <tr style=\"text-align: right;\">\n      <th></th>\n      <th>P</th>\n      <th>Age</th>\n      <th>Gender</th>\n      <th>CDate</th>\n      <th>CCity</th>\n      <th>CState</th>\n      <th>Ccountry-iso_alpha</th>\n      <th>Mem</th>\n      <th>3Wrds</th>\n      <th>ColorB</th>\n      <th>ColorHex</th>\n      <th>ColorRes</th>\n    </tr>\n  </thead>\n  <tbody>\n    <tr>\n      <th>0</th>\n      <td>A</td>\n      <td>25-40</td>\n      <td>Female</td>\n      <td>3/11/20</td>\n      <td>Surrey</td>\n      <td>British Columbia</td>\n      <td>CAN</td>\n      <td>I recall having a team meeting at work with lo...</td>\n      <td>Fun, overwhelming, tiring</td>\n      <td>I have no color deficiency.</td>\n      <td>NONE</td>\n      <td>NONE</td>\n    </tr>\n    <tr>\n      <th>1</th>\n      <td>B</td>\n      <td>25-40</td>\n      <td>Female</td>\n      <td>1/24/20</td>\n      <td>Brooklyn</td>\n      <td>New York</td>\n      <td>USA</td>\n      <td>A lot of things came to my mind. It was hard t...</td>\n      <td>Chinese, friendly, funny</td>\n      <td>I have no color deficiency.</td>\n      <td>#CC0000</td>\n      <td>Red is the official color of Chinese New Year:)</td>\n    </tr>\n    <tr>\n      <th>2</th>\n      <td>C</td>\n      <td>41-55</td>\n      <td>Female</td>\n      <td>3/13/20</td>\n      <td>Brooklyn</td>\n      <td>New York</td>\n      <td>USA</td>\n      <td>It was the day that I learned that public scho...</td>\n      <td>disbelief, confusion, concern</td>\n      <td>I have no color deficiency.</td>\n      <td>#660000</td>\n      <td>Red reminds me of school, and concern</td>\n    </tr>\n    <tr>\n      <th>3</th>\n      <td>D</td>\n      <td>25-40</td>\n      <td>Female</td>\n      <td>3/30/20</td>\n      <td>Radford</td>\n      <td>Virgina</td>\n      <td>USA</td>\n      <td>My Grandmother passed away and we couldn’t gri...</td>\n      <td>Angry, Sunken, bitter</td>\n      <td>I have no color deficiency.</td>\n      <td>#330066</td>\n      <td>It feels like a somber color</td>\n    </tr>\n    <tr>\n      <th>4</th>\n      <td>E</td>\n      <td>25-40</td>\n      <td>Male</td>\n      <td>3/8/20</td>\n      <td>Newark</td>\n      <td>New Jersey</td>\n      <td>USA</td>\n      <td>I hope this doesn’t feel like too ‘silly’ of a...</td>\n      <td>Exhilarating, overindulgent, inspiring</td>\n      <td>I have no color deficiency.</td>\n      <td>#CC0000</td>\n      <td>The concert design largely used this color, so...</td>\n    </tr>\n  </tbody>\n</table>\n</div>"
     },
     "metadata": {},
     "execution_count": 15
    }
   ],
   "source": [
    "df_survey_raw.head()"
   ]
  },
  {
   "cell_type": "code",
   "execution_count": 16,
   "metadata": {},
   "outputs": [
    {
     "output_type": "execute_result",
     "data": {
      "text/plain": [
       "(14, 12)"
      ]
     },
     "metadata": {},
     "execution_count": 16
    }
   ],
   "source": [
    "df_survey_raw.shape"
   ]
  },
  {
   "cell_type": "code",
   "execution_count": 17,
   "metadata": {},
   "outputs": [
    {
     "output_type": "execute_result",
     "data": {
      "text/plain": [
       "   P    Age     Sex    CDate   CCity            CState Ccountry-iso_alpha  \\\n",
       "0  A  25-40  Female  3/11/20  Surrey  British Columbia                CAN   \n",
       "\n",
       "                                                 Mem  \\\n",
       "0  I recall having a team meeting at work with lo...   \n",
       "\n",
       "                       3Wrds                       ColorB ColorHex ColorRes  \n",
       "0  Fun, overwhelming, tiring  I have no color deficiency.     NONE     NONE  "
      ],
      "text/html": "<div>\n<style scoped>\n    .dataframe tbody tr th:only-of-type {\n        vertical-align: middle;\n    }\n\n    .dataframe tbody tr th {\n        vertical-align: top;\n    }\n\n    .dataframe thead th {\n        text-align: right;\n    }\n</style>\n<table border=\"1\" class=\"dataframe\">\n  <thead>\n    <tr style=\"text-align: right;\">\n      <th></th>\n      <th>P</th>\n      <th>Age</th>\n      <th>Sex</th>\n      <th>CDate</th>\n      <th>CCity</th>\n      <th>CState</th>\n      <th>Ccountry-iso_alpha</th>\n      <th>Mem</th>\n      <th>3Wrds</th>\n      <th>ColorB</th>\n      <th>ColorHex</th>\n      <th>ColorRes</th>\n    </tr>\n  </thead>\n  <tbody>\n    <tr>\n      <th>0</th>\n      <td>A</td>\n      <td>25-40</td>\n      <td>Female</td>\n      <td>3/11/20</td>\n      <td>Surrey</td>\n      <td>British Columbia</td>\n      <td>CAN</td>\n      <td>I recall having a team meeting at work with lo...</td>\n      <td>Fun, overwhelming, tiring</td>\n      <td>I have no color deficiency.</td>\n      <td>NONE</td>\n      <td>NONE</td>\n    </tr>\n  </tbody>\n</table>\n</div>"
     },
     "metadata": {},
     "execution_count": 17
    }
   ],
   "source": [
    "# gender column actually describes sex. change gender column name to sex\n",
    "df_survey_raw = df_survey_raw.rename({\"Gender\":\"Sex\"}, axis=1)\n",
    "df_survey_raw.head(1)"
   ]
  },
  {
   "cell_type": "code",
   "execution_count": 18,
   "metadata": {},
   "outputs": [
    {
     "output_type": "execute_result",
     "data": {
      "text/plain": [
       "   P    Age     Sex      CDate   CCity            CState Ccountry-iso_alpha  \\\n",
       "0  A  25-40  Female 2020-03-11  Surrey  British Columbia                CAN   \n",
       "\n",
       "                                                 Mem  \\\n",
       "0  I recall having a team meeting at work with lo...   \n",
       "\n",
       "                       3Wrds                       ColorB ColorHex ColorRes  \\\n",
       "0  Fun, overwhelming, tiring  I have no color deficiency.     NONE     NONE   \n",
       "\n",
       "   CDyear CDmm-dd  \n",
       "0    2020   03-11  "
      ],
      "text/html": "<div>\n<style scoped>\n    .dataframe tbody tr th:only-of-type {\n        vertical-align: middle;\n    }\n\n    .dataframe tbody tr th {\n        vertical-align: top;\n    }\n\n    .dataframe thead th {\n        text-align: right;\n    }\n</style>\n<table border=\"1\" class=\"dataframe\">\n  <thead>\n    <tr style=\"text-align: right;\">\n      <th></th>\n      <th>P</th>\n      <th>Age</th>\n      <th>Sex</th>\n      <th>CDate</th>\n      <th>CCity</th>\n      <th>CState</th>\n      <th>Ccountry-iso_alpha</th>\n      <th>Mem</th>\n      <th>3Wrds</th>\n      <th>ColorB</th>\n      <th>ColorHex</th>\n      <th>ColorRes</th>\n      <th>CDyear</th>\n      <th>CDmm-dd</th>\n    </tr>\n  </thead>\n  <tbody>\n    <tr>\n      <th>0</th>\n      <td>A</td>\n      <td>25-40</td>\n      <td>Female</td>\n      <td>2020-03-11</td>\n      <td>Surrey</td>\n      <td>British Columbia</td>\n      <td>CAN</td>\n      <td>I recall having a team meeting at work with lo...</td>\n      <td>Fun, overwhelming, tiring</td>\n      <td>I have no color deficiency.</td>\n      <td>NONE</td>\n      <td>NONE</td>\n      <td>2020</td>\n      <td>03-11</td>\n    </tr>\n  </tbody>\n</table>\n</div>"
     },
     "metadata": {},
     "execution_count": 18
    }
   ],
   "source": [
    "# convert CDate column to datetime format and extract a year, month-day\n",
    "df_survey_raw['CDate'] = pd.to_datetime(df_survey_raw['CDate'])\n",
    "df_survey_raw['CDyear'] = df_survey_raw['CDate'].dt.year\n",
    "df_survey_raw['CDmm-dd'] = df_survey_raw['CDate'].dt.strftime('%m-%d')\n",
    "df_survey_raw.head(1)"
   ]
  },
  {
   "cell_type": "code",
   "execution_count": 19,
   "metadata": {},
   "outputs": [
    {
     "output_type": "execute_result",
     "data": {
      "text/plain": [
       "array([2020])"
      ]
     },
     "metadata": {},
     "execution_count": 19
    }
   ],
   "source": [
    "df_survey_raw['CDyear'].unique()"
   ]
  },
  {
   "source": [
    "All the memories collected were from 2020."
   ],
   "cell_type": "markdown",
   "metadata": {}
  },
  {
   "cell_type": "code",
   "execution_count": 20,
   "metadata": {},
   "outputs": [
    {
     "output_type": "display_data",
     "data": {
      "text/plain": "<Figure size 864x360 with 1 Axes>",
      "image/png": "[encoded data removed]"
     },
     "metadata": {
      "needs_background": "light"
     }
    }
   ],
   "source": [
    "# plot counts of memories by date\n",
    "fig = plt.figure(figsize=(12,5))\n",
    "df_survey_raw['CDmm-dd'].value_counts().sort_index().plot(kind='bar')\n",
    "plt.ylabel(\"Number of COVID-19 Memories\")\n",
    "plt.title(\"Count of COVID-19 Memories Received by Date for 2020\")\n",
    "plt.savefig('/Users/diedrebrown/Desktop/GitHubRepos/inthetimeofcovid/images/2020-memoriesbydate.png', dpi=300)\n",
    "plt.show()"
   ]
  },
  {
   "source": [
    "3/11/2020 was the only date to receive two entries."
   ],
   "cell_type": "markdown",
   "metadata": {}
  },
  {
   "cell_type": "code",
   "execution_count": 35,
   "metadata": {},
   "outputs": [
    {
     "output_type": "stream",
     "name": "stderr",
     "text": [
      "2021-04-19 14:08:20,758 - INFO - Using categorical units to plot a list of strings that are all parsable as floats or dates. If these strings should be plotted as numbers, cast to the appropriate data type before plotting.\n",
      "2021-04-19 14:08:20,761 - INFO - Using categorical units to plot a list of strings that are all parsable as floats or dates. If these strings should be plotted as numbers, cast to the appropriate data type before plotting.\n",
      "2021-04-19 14:08:20,765 - INFO - Using categorical units to plot a list of strings that are all parsable as floats or dates. If these strings should be plotted as numbers, cast to the appropriate data type before plotting.\n"
     ]
    },
    {
     "output_type": "display_data",
     "data": {
      "text/plain": "<Figure size 720x360 with 2 Axes>",
      "image/png": "[encoded data removed]"
     },
     "metadata": {
      "needs_background": "light"
     }
    }
   ],
   "source": [
    "# plot counts of memories by date by gender\n",
    "g = sns.displot(data=df_survey_raw, x=\"CDmm-dd\", col=\"Sex\", kde=False)\n",
    "g.set_xticklabels(rotation=30)\n",
    "plt.xlabel(\"Date\")\n",
    "plt.title(\"Distribution of COVID-19 Memories by Gender in 2020\")\n",
    "plt.show()"
   ]
  },
  {
   "cell_type": "code",
   "execution_count": 21,
   "metadata": {},
   "outputs": [
    {
     "output_type": "display_data",
     "data": {
      "text/plain": "<Figure size 864x360 with 1 Axes>",
      "image/png": "[encoded data removed]"
     },
     "metadata": {
      "needs_background": "light"
     }
    }
   ],
   "source": [
    "# plot counts of memories by country\n",
    "fig = plt.figure(figsize=(12,5))\n",
    "df_survey_raw['Ccountry-iso_alpha'].value_counts().sort_index().plot(kind='bar')\n",
    "plt.ylabel(\"Number of COVID-19 Memories\")\n",
    "plt.title(\"Count of COVID-19 Memories Received by Country for 2020\")\n",
    "plt.savefig('/Users/diedrebrown/Desktop/GitHubRepos/inthetimeofcovid/images/2020-memoriesbycountry.png', dpi=300)\n",
    "plt.show()"
   ]
  },
  {
   "cell_type": "code",
   "execution_count": 22,
   "metadata": {},
   "outputs": [
    {
     "output_type": "display_data",
     "data": {
      "text/plain": "<Figure size 864x360 with 1 Axes>",
      "image/png": "[encoded data removed]"
     },
     "metadata": {
      "needs_background": "light"
     }
    }
   ],
   "source": [
    "# plot counts of memories by state\n",
    "fig = plt.figure(figsize=(12,5))\n",
    "df_survey_raw['CState'].value_counts().sort_index().plot(kind='bar')\n",
    "plt.ylabel(\"Number of COVID-19 Memories\")\n",
    "plt.title(\"Count of COVID-19 Memories Received by State/Province for 2020\")\n",
    "plt.savefig('/Users/diedrebrown/Desktop/GitHubRepos/inthetimeofcovid/images/2020-memoriesbystate.png', dpi=300)\n",
    "plt.show()"
   ]
  },
  {
   "cell_type": "code",
   "execution_count": 23,
   "metadata": {},
   "outputs": [
    {
     "output_type": "display_data",
     "data": {
      "text/plain": "<Figure size 864x360 with 1 Axes>",
      "image/png": "[encoded data removed]"
     },
     "metadata": {
      "needs_background": "light"
     }
    }
   ],
   "source": [
    "# plot counts of memories by state\n",
    "fig = plt.figure(figsize=(12,5))\n",
    "df_survey_raw['CCity'].value_counts().sort_index().plot(kind='bar')\n",
    "plt.ylabel(\"Number of COVID-19 Memories\")\n",
    "plt.title(\"Count of COVID-19 Memories Received by City for 2020\")\n",
    "plt.savefig('/Users/diedrebrown/Desktop/GitHubRepos/inthetimeofcovid/images/2020-memoriesbycity.png', dpi=300)\n",
    "plt.show()"
   ]
  },
  {
   "cell_type": "code",
   "execution_count": 24,
   "metadata": {},
   "outputs": [
    {
     "output_type": "display_data",
     "data": {
      "text/plain": "<Figure size 864x360 with 1 Axes>",
      "image/png": "[encoded data removed]"
     },
     "metadata": {
      "needs_background": "light"
     }
    }
   ],
   "source": [
    "# plot counts of memories by participant sex\n",
    "fig = plt.figure(figsize=(12,5))\n",
    "df_survey_raw['Sex'].value_counts().sort_index().plot(kind='bar')\n",
    "plt.ylabel(\"Number of COVID-19 Memories\")\n",
    "plt.title(\"Count of COVID-19 Memories Received by Participant Sex\")\n",
    "plt.savefig('/Users/diedrebrown/Desktop/GitHubRepos/inthetimeofcovid/images/2020-memoriesbysex.png', dpi=300)\n",
    "plt.show()"
   ]
  },
  {
   "cell_type": "code",
   "execution_count": 59,
   "metadata": {},
   "outputs": [
    {
     "output_type": "display_data",
     "data": {
      "application/vnd.plotly.v1+json": {
       "config": {
        "plotlyServerURL": "https://plot.ly"
       },
       "data": [
        {
         "customdata": [
          [
           "Female"
          ],
          [
           "Male"
          ]
         ],
         "domain": {
          "x": [
           0,
           1
          ],
          "y": [
           0,
           1
          ]
         },
         "hovertemplate": "label=%{label}<br>Sex=%{value}<br>color=%{customdata[0]}<extra></extra>",
         "labels": [
          "Female",
          "Male"
         ],
         "legendgroup": "",
         "marker": {
          "colors": [
           "#FFD297",
           "#26445E"
          ]
         },
         "name": "",
         "showlegend": true,
         "type": "pie",
         "values": [
          10,
          3
         ]
        }
       ],
       "layout": {
        "legend": {
         "tracegroupgap": 0
        },
        "template": {
         "data": {
          "bar": [
           {
            "error_x": {
             "color": "#2a3f5f"
            },
            "error_y": {
             "color": "#2a3f5f"
            },
            "marker": {
             "line": {
              "color": "#E5ECF6",
              "width": 0.5
             }
            },
            "type": "bar"
           }
          ],
          "barpolar": [
           {
            "marker": {
             "line": {
              "color": "#E5ECF6",
              "width": 0.5
             }
            },
            "type": "barpolar"
           }
          ],
          "carpet": [
           {
            "aaxis": {
             "endlinecolor": "#2a3f5f",
             "gridcolor": "white",
             "linecolor": "white",
             "minorgridcolor": "white",
             "startlinecolor": "#2a3f5f"
            },
            "baxis": {
             "endlinecolor": "#2a3f5f",
             "gridcolor": "white",
             "linecolor": "white",
             "minorgridcolor": "white",
             "startlinecolor": "#2a3f5f"
            },
            "type": "carpet"
           }
          ],
          "choropleth": [
           {
            "colorbar": {
             "outlinewidth": 0,
             "ticks": ""
            },
            "type": "choropleth"
           }
          ],
          "contour": [
           {
            "colorbar": {
             "outlinewidth": 0,
             "ticks": ""
            },
            "colorscale": [
             [
              0,
              "#0d0887"
             ],
             [
              0.1111111111111111,
              "#46039f"
             ],
             [
              0.2222222222222222,
              "#7201a8"
             ],
             [
              0.3333333333333333,
              "#9c179e"
             ],
             [
              0.4444444444444444,
              "#bd3786"
             ],
             [
              0.5555555555555556,
              "#d8576b"
             ],
             [
              0.6666666666666666,
              "#ed7953"
             ],
             [
              0.7777777777777778,
              "#fb9f3a"
             ],
             [
              0.8888888888888888,
              "#fdca26"
             ],
             [
              1,
              "#f0f921"
             ]
            ],
            "type": "contour"
           }
          ],
          "contourcarpet": [
           {
            "colorbar": {
             "outlinewidth": 0,
             "ticks": ""
            },
            "type": "contourcarpet"
           }
          ],
          "heatmap": [
           {
            "colorbar": {
             "outlinewidth": 0,
             "ticks": ""
            },
            "colorscale": [
             [
              0,
              "#0d0887"
             ],
             [
              0.1111111111111111,
              "#46039f"
             ],
             [
              0.2222222222222222,
              "#7201a8"
             ],
             [
              0.3333333333333333,
              "#9c179e"
             ],
             [
              0.4444444444444444,
              "#bd3786"
             ],
             [
              0.5555555555555556,
              "#d8576b"
             ],
             [
              0.6666666666666666,
              "#ed7953"
             ],
             [
              0.7777777777777778,
              "#fb9f3a"
             ],
             [
              0.8888888888888888,
              "#fdca26"
             ],
             [
              1,
              "#f0f921"
             ]
            ],
            "type": "heatmap"
           }
          ],
          "heatmapgl": [
           {
            "colorbar": {
             "outlinewidth": 0,
             "ticks": ""
            },
            "colorscale": [
             [
              0,
              "#0d0887"
             ],
             [
              0.1111111111111111,
              "#46039f"
             ],
             [
              0.2222222222222222,
              "#7201a8"
             ],
             [
              0.3333333333333333,
              "#9c179e"
             ],
             [
              0.4444444444444444,
              "#bd3786"
             ],
             [
              0.5555555555555556,
              "#d8576b"
             ],
             [
              0.6666666666666666,
              "#ed7953"
             ],
             [
              0.7777777777777778,
              "#fb9f3a"
             ],
             [
              0.8888888888888888,
              "#fdca26"
             ],
             [
              1,
              "#f0f921"
             ]
            ],
            "type": "heatmapgl"
           }
          ],
          "histogram": [
           {
            "marker": {
             "colorbar": {
              "outlinewidth": 0,
              "ticks": ""
             }
            },
            "type": "histogram"
           }
          ],
          "histogram2d": [
           {
            "colorbar": {
             "outlinewidth": 0,
             "ticks": ""
            },
            "colorscale": [
             [
              0,
              "#0d0887"
             ],
             [
              0.1111111111111111,
              "#46039f"
             ],
             [
              0.2222222222222222,
              "#7201a8"
             ],
             [
              0.3333333333333333,
              "#9c179e"
             ],
             [
              0.4444444444444444,
              "#bd3786"
             ],
             [
              0.5555555555555556,
              "#d8576b"
             ],
             [
              0.6666666666666666,
              "#ed7953"
             ],
             [
              0.7777777777777778,
              "#fb9f3a"
             ],
             [
              0.8888888888888888,
              "#fdca26"
             ],
             [
              1,
              "#f0f921"
             ]
            ],
            "type": "histogram2d"
           }
          ],
          "histogram2dcontour": [
           {
            "colorbar": {
             "outlinewidth": 0,
             "ticks": ""
            },
            "colorscale": [
             [
              0,
              "#0d0887"
             ],
             [
              0.1111111111111111,
              "#46039f"
             ],
             [
              0.2222222222222222,
              "#7201a8"
             ],
             [
              0.3333333333333333,
              "#9c179e"
             ],
             [
              0.4444444444444444,
              "#bd3786"
             ],
             [
              0.5555555555555556,
              "#d8576b"
             ],
             [
              0.6666666666666666,
              "#ed7953"
             ],
             [
              0.7777777777777778,
              "#fb9f3a"
             ],
             [
              0.8888888888888888,
              "#fdca26"
             ],
             [
              1,
              "#f0f921"
             ]
            ],
            "type": "histogram2dcontour"
           }
          ],
          "mesh3d": [
           {
            "colorbar": {
             "outlinewidth": 0,
             "ticks": ""
            },
            "type": "mesh3d"
           }
          ],
          "parcoords": [
           {
            "line": {
             "colorbar": {
              "outlinewidth": 0,
              "ticks": ""
             }
            },
            "type": "parcoords"
           }
          ],
          "pie": [
           {
            "automargin": true,
            "type": "pie"
           }
          ],
          "scatter": [
           {
            "marker": {
             "colorbar": {
              "outlinewidth": 0,
              "ticks": ""
             }
            },
            "type": "scatter"
           }
          ],
          "scatter3d": [
           {
            "line": {
             "colorbar": {
              "outlinewidth": 0,
              "ticks": ""
             }
            },
            "marker": {
             "colorbar": {
              "outlinewidth": 0,
              "ticks": ""
             }
            },
            "type": "scatter3d"
           }
          ],
          "scattercarpet": [
           {
            "marker": {
             "colorbar": {
              "outlinewidth": 0,
              "ticks": ""
             }
            },
            "type": "scattercarpet"
           }
          ],
          "scattergeo": [
           {
            "marker": {
             "colorbar": {
              "outlinewidth": 0,
              "ticks": ""
             }
            },
            "type": "scattergeo"
           }
          ],
          "scattergl": [
           {
            "marker": {
             "colorbar": {
              "outlinewidth": 0,
              "ticks": ""
             }
            },
            "type": "scattergl"
           }
          ],
          "scattermapbox": [
           {
            "marker": {
             "colorbar": {
              "outlinewidth": 0,
              "ticks": ""
             }
            },
            "type": "scattermapbox"
           }
          ],
          "scatterpolar": [
           {
            "marker": {
             "colorbar": {
              "outlinewidth": 0,
              "ticks": ""
             }
            },
            "type": "scatterpolar"
           }
          ],
          "scatterpolargl": [
           {
            "marker": {
             "colorbar": {
              "outlinewidth": 0,
              "ticks": ""
             }
            },
            "type": "scatterpolargl"
           }
          ],
          "scatterternary": [
           {
            "marker": {
             "colorbar": {
              "outlinewidth": 0,
              "ticks": ""
             }
            },
            "type": "scatterternary"
           }
          ],
          "surface": [
           {
            "colorbar": {
             "outlinewidth": 0,
             "ticks": ""
            },
            "colorscale": [
             [
              0,
              "#0d0887"
             ],
             [
              0.1111111111111111,
              "#46039f"
             ],
             [
              0.2222222222222222,
              "#7201a8"
             ],
             [
              0.3333333333333333,
              "#9c179e"
             ],
             [
              0.4444444444444444,
              "#bd3786"
             ],
             [
              0.5555555555555556,
              "#d8576b"
             ],
             [
              0.6666666666666666,
              "#ed7953"
             ],
             [
              0.7777777777777778,
              "#fb9f3a"
             ],
             [
              0.8888888888888888,
              "#fdca26"
             ],
             [
              1,
              "#f0f921"
             ]
            ],
            "type": "surface"
           }
          ],
          "table": [
           {
            "cells": {
             "fill": {
              "color": "#EBF0F8"
             },
             "line": {
              "color": "white"
             }
            },
            "header": {
             "fill": {
              "color": "#C8D4E3"
             },
             "line": {
              "color": "white"
             }
            },
            "type": "table"
           }
          ]
         },
         "layout": {
          "annotationdefaults": {
           "arrowcolor": "#2a3f5f",
           "arrowhead": 0,
           "arrowwidth": 1
          },
          "autotypenumbers": "strict",
          "coloraxis": {
           "colorbar": {
            "outlinewidth": 0,
            "ticks": ""
           }
          },
          "colorscale": {
           "diverging": [
            [
             0,
             "#8e0152"
            ],
            [
             0.1,
             "#c51b7d"
            ],
            [
             0.2,
             "#de77ae"
            ],
            [
             0.3,
             "#f1b6da"
            ],
            [
             0.4,
             "#fde0ef"
            ],
            [
             0.5,
             "#f7f7f7"
            ],
            [
             0.6,
             "#e6f5d0"
            ],
            [
             0.7,
             "#b8e186"
            ],
            [
             0.8,
             "#7fbc41"
            ],
            [
             0.9,
             "#4d9221"
            ],
            [
             1,
             "#276419"
            ]
           ],
           "sequential": [
            [
             0,
             "#0d0887"
            ],
            [
             0.1111111111111111,
             "#46039f"
            ],
            [
             0.2222222222222222,
             "#7201a8"
            ],
            [
             0.3333333333333333,
             "#9c179e"
            ],
            [
             0.4444444444444444,
             "#bd3786"
            ],
            [
             0.5555555555555556,
             "#d8576b"
            ],
            [
             0.6666666666666666,
             "#ed7953"
            ],
            [
             0.7777777777777778,
             "#fb9f3a"
            ],
            [
             0.8888888888888888,
             "#fdca26"
            ],
            [
             1,
             "#f0f921"
            ]
           ],
           "sequentialminus": [
            [
             0,
             "#0d0887"
            ],
            [
             0.1111111111111111,
             "#46039f"
            ],
            [
             0.2222222222222222,
             "#7201a8"
            ],
            [
             0.3333333333333333,
             "#9c179e"
            ],
            [
             0.4444444444444444,
             "#bd3786"
            ],
            [
             0.5555555555555556,
             "#d8576b"
            ],
            [
             0.6666666666666666,
             "#ed7953"
            ],
            [
             0.7777777777777778,
             "#fb9f3a"
            ],
            [
             0.8888888888888888,
             "#fdca26"
            ],
            [
             1,
             "#f0f921"
            ]
           ]
          },
          "colorway": [
           "#636efa",
           "#EF553B",
           "#00cc96",
           "#ab63fa",
           "#FFA15A",
           "#19d3f3",
           "#FF6692",
           "#B6E880",
           "#FF97FF",
           "#FECB52"
          ],
          "font": {
           "color": "#2a3f5f"
          },
          "geo": {
           "bgcolor": "white",
           "lakecolor": "white",
           "landcolor": "#E5ECF6",
           "showlakes": true,
           "showland": true,
           "subunitcolor": "white"
          },
          "hoverlabel": {
           "align": "left"
          },
          "hovermode": "closest",
          "mapbox": {
           "style": "light"
          },
          "paper_bgcolor": "white",
          "plot_bgcolor": "#E5ECF6",
          "polar": {
           "angularaxis": {
            "gridcolor": "white",
            "linecolor": "white",
            "ticks": ""
           },
           "bgcolor": "#E5ECF6",
           "radialaxis": {
            "gridcolor": "white",
            "linecolor": "white",
            "ticks": ""
           }
          },
          "scene": {
           "xaxis": {
            "backgroundcolor": "#E5ECF6",
            "gridcolor": "white",
            "gridwidth": 2,
            "linecolor": "white",
            "showbackground": true,
            "ticks": "",
            "zerolinecolor": "white"
           },
           "yaxis": {
            "backgroundcolor": "#E5ECF6",
            "gridcolor": "white",
            "gridwidth": 2,
            "linecolor": "white",
            "showbackground": true,
            "ticks": "",
            "zerolinecolor": "white"
           },
           "zaxis": {
            "backgroundcolor": "#E5ECF6",
            "gridcolor": "white",
            "gridwidth": 2,
            "linecolor": "white",
            "showbackground": true,
            "ticks": "",
            "zerolinecolor": "white"
           }
          },
          "shapedefaults": {
           "line": {
            "color": "#2a3f5f"
           }
          },
          "ternary": {
           "aaxis": {
            "gridcolor": "white",
            "linecolor": "white",
            "ticks": ""
           },
           "baxis": {
            "gridcolor": "white",
            "linecolor": "white",
            "ticks": ""
           },
           "bgcolor": "#E5ECF6",
           "caxis": {
            "gridcolor": "white",
            "linecolor": "white",
            "ticks": ""
           }
          },
          "title": {
           "x": 0.05
          },
          "xaxis": {
           "automargin": true,
           "gridcolor": "white",
           "linecolor": "white",
           "ticks": "",
           "title": {
            "standoff": 15
           },
           "zerolinecolor": "white",
           "zerolinewidth": 2
          },
          "yaxis": {
           "automargin": true,
           "gridcolor": "white",
           "linecolor": "white",
           "ticks": "",
           "title": {
            "standoff": 15
           },
           "zerolinecolor": "white",
           "zerolinewidth": 2
          }
         }
        },
        "title": {
         "text": "Count of COVID-19 Memories Received by Participant Sex"
        }
       }
      }
     },
     "metadata": {}
    }
   ],
   "source": [
    "# plotly version\n",
    "persex = df_survey_raw['Sex'].value_counts().sort_index()\n",
    "fig = px.pie(persex, values='Sex',names=['Female','Male'], color=['Female','Male'],\n",
    "        color_discrete_map={'Female':'#FFD297','Male':'#26445E'},\n",
    "        title=\"Count of COVID-19 Memories Received by Participant Sex\")\n",
    "fig.show()"
   ]
  },
  {
   "cell_type": "code",
   "execution_count": 25,
   "metadata": {},
   "outputs": [
    {
     "output_type": "display_data",
     "data": {
      "text/plain": "<Figure size 864x360 with 1 Axes>",
      "image/png": "[encoded data removed]"
     },
     "metadata": {
      "needs_background": "light"
     }
    }
   ],
   "source": [
    "# plot counts of memories by participant age\n",
    "fig = plt.figure(figsize=(12,5))\n",
    "df_survey_raw['Age'].value_counts().sort_index().plot(kind='bar')\n",
    "plt.ylabel(\"Number of COVID-19 Memories\")\n",
    "plt.title(\"Count of COVID-19 Memories Received by Participant Age\")\n",
    "plt.savefig('/Users/diedrebrown/Desktop/GitHubRepos/inthetimeofcovid/images/2020-memoriesbyage.png', dpi=300)\n",
    "plt.show()"
   ]
  },
  {
   "cell_type": "code",
   "execution_count": 26,
   "metadata": {},
   "outputs": [
    {
     "output_type": "execute_result",
     "data": {
      "text/plain": [
       "   P    Age     Sex      CDate     CCity            CState Ccountry-iso_alpha  \\\n",
       "0  A  25-40  Female 2020-03-11    Surrey  British Columbia                CAN   \n",
       "1  B  25-40  Female 2020-01-24  Brooklyn          New York                USA   \n",
       "2  C  41-55  Female 2020-03-13  Brooklyn          New York                USA   \n",
       "3  D  25-40  Female 2020-03-30   Radford           Virgina                USA   \n",
       "4  E  25-40    Male 2020-03-08    Newark        New Jersey                USA   \n",
       "\n",
       "                                                 Mem  \\\n",
       "0  I recall having a team meeting at work with lo...   \n",
       "1  A lot of things came to my mind. It was hard t...   \n",
       "2  It was the day that I learned that public scho...   \n",
       "3  My Grandmother passed away and we couldn’t gri...   \n",
       "4  I hope this doesn’t feel like too ‘silly’ of a...   \n",
       "\n",
       "                                     3Wrds                       ColorB  \\\n",
       "0                Fun, overwhelming, tiring  I have no color deficiency.   \n",
       "1                 Chinese, friendly, funny  I have no color deficiency.   \n",
       "2            disbelief, confusion, concern  I have no color deficiency.   \n",
       "3                   Angry, Sunken, bitter   I have no color deficiency.   \n",
       "4  Exhilarating, overindulgent, inspiring   I have no color deficiency.   \n",
       "\n",
       "  ColorHex                                           ColorRes  CDyear CDmm-dd  \\\n",
       "0     NONE                                               NONE    2020   03-11   \n",
       "1  #CC0000    Red is the official color of Chinese New Year:)    2020   01-24   \n",
       "2  #660000              Red reminds me of school, and concern    2020   03-13   \n",
       "3  #330066                       It feels like a somber color    2020   03-30   \n",
       "4  #CC0000  The concert design largely used this color, so...    2020   03-08   \n",
       "\n",
       "   length  \n",
       "0     267  \n",
       "1    1555  \n",
       "2      89  \n",
       "3     466  \n",
       "4    1131  "
      ],
      "text/html": "<div>\n<style scoped>\n    .dataframe tbody tr th:only-of-type {\n        vertical-align: middle;\n    }\n\n    .dataframe tbody tr th {\n        vertical-align: top;\n    }\n\n    .dataframe thead th {\n        text-align: right;\n    }\n</style>\n<table border=\"1\" class=\"dataframe\">\n  <thead>\n    <tr style=\"text-align: right;\">\n      <th></th>\n      <th>P</th>\n      <th>Age</th>\n      <th>Sex</th>\n      <th>CDate</th>\n      <th>CCity</th>\n      <th>CState</th>\n      <th>Ccountry-iso_alpha</th>\n      <th>Mem</th>\n      <th>3Wrds</th>\n      <th>ColorB</th>\n      <th>ColorHex</th>\n      <th>ColorRes</th>\n      <th>CDyear</th>\n      <th>CDmm-dd</th>\n      <th>length</th>\n    </tr>\n  </thead>\n  <tbody>\n    <tr>\n      <th>0</th>\n      <td>A</td>\n      <td>25-40</td>\n      <td>Female</td>\n      <td>2020-03-11</td>\n      <td>Surrey</td>\n      <td>British Columbia</td>\n      <td>CAN</td>\n      <td>I recall having a team meeting at work with lo...</td>\n      <td>Fun, overwhelming, tiring</td>\n      <td>I have no color deficiency.</td>\n      <td>NONE</td>\n      <td>NONE</td>\n      <td>2020</td>\n      <td>03-11</td>\n      <td>267</td>\n    </tr>\n    <tr>\n      <th>1</th>\n      <td>B</td>\n      <td>25-40</td>\n      <td>Female</td>\n      <td>2020-01-24</td>\n      <td>Brooklyn</td>\n      <td>New York</td>\n      <td>USA</td>\n      <td>A lot of things came to my mind. It was hard t...</td>\n      <td>Chinese, friendly, funny</td>\n      <td>I have no color deficiency.</td>\n      <td>#CC0000</td>\n      <td>Red is the official color of Chinese New Year:)</td>\n      <td>2020</td>\n      <td>01-24</td>\n      <td>1555</td>\n    </tr>\n    <tr>\n      <th>2</th>\n      <td>C</td>\n      <td>41-55</td>\n      <td>Female</td>\n      <td>2020-03-13</td>\n      <td>Brooklyn</td>\n      <td>New York</td>\n      <td>USA</td>\n      <td>It was the day that I learned that public scho...</td>\n      <td>disbelief, confusion, concern</td>\n      <td>I have no color deficiency.</td>\n      <td>#660000</td>\n      <td>Red reminds me of school, and concern</td>\n      <td>2020</td>\n      <td>03-13</td>\n      <td>89</td>\n    </tr>\n    <tr>\n      <th>3</th>\n      <td>D</td>\n      <td>25-40</td>\n      <td>Female</td>\n      <td>2020-03-30</td>\n      <td>Radford</td>\n      <td>Virgina</td>\n      <td>USA</td>\n      <td>My Grandmother passed away and we couldn’t gri...</td>\n      <td>Angry, Sunken, bitter</td>\n      <td>I have no color deficiency.</td>\n      <td>#330066</td>\n      <td>It feels like a somber color</td>\n      <td>2020</td>\n      <td>03-30</td>\n      <td>466</td>\n    </tr>\n    <tr>\n      <th>4</th>\n      <td>E</td>\n      <td>25-40</td>\n      <td>Male</td>\n      <td>2020-03-08</td>\n      <td>Newark</td>\n      <td>New Jersey</td>\n      <td>USA</td>\n      <td>I hope this doesn’t feel like too ‘silly’ of a...</td>\n      <td>Exhilarating, overindulgent, inspiring</td>\n      <td>I have no color deficiency.</td>\n      <td>#CC0000</td>\n      <td>The concert design largely used this color, so...</td>\n      <td>2020</td>\n      <td>03-08</td>\n      <td>1131</td>\n    </tr>\n  </tbody>\n</table>\n</div>"
     },
     "metadata": {},
     "execution_count": 26
    }
   ],
   "source": [
    "# let's see the length of each review and then plot this\n",
    "df_survey_raw['length']=df_survey_raw['Mem'].apply(len)\n",
    "df_survey_raw.head()"
   ]
  },
  {
   "cell_type": "code",
   "execution_count": 27,
   "metadata": {},
   "outputs": [
    {
     "output_type": "display_data",
     "data": {
      "text/plain": "<Figure size 864x360 with 1 Axes>",
      "image/png": "[encoded data removed]"
     },
     "metadata": {
      "needs_background": "light"
     }
    }
   ],
   "source": [
    "# plot counts of memories by length\n",
    "fig = plt.figure(figsize=(12,5))\n",
    "df_survey_raw['length'].plot.hist(bins=20)\n",
    "plt.ylabel(\"Frequency\")\n",
    "plt.title(\"Length of COVID Memories Distribution\")\n",
    "plt.savefig('/Users/diedrebrown/Desktop/GitHubRepos/inthetimeofcovid/images/2020-memoriesbylength.png', dpi=300)\n",
    "plt.show()"
   ]
  },
  {
   "cell_type": "code",
   "execution_count": 28,
   "metadata": {},
   "outputs": [
    {
     "output_type": "execute_result",
     "data": {
      "text/plain": [
       "count      14.000000\n",
       "mean      578.142857\n",
       "std       463.502860\n",
       "min        28.000000\n",
       "25%       220.000000\n",
       "50%       431.500000\n",
       "75%       880.250000\n",
       "max      1555.000000\n",
       "Name: length, dtype: float64"
      ]
     },
     "metadata": {},
     "execution_count": 28
    }
   ],
   "source": [
    "df_survey_raw['length'].describe()"
   ]
  },
  {
   "source": [
    "The longest memory was 1555 characters in length, but the average memory was 578 characters long."
   ],
   "cell_type": "markdown",
   "metadata": {}
  },
  {
   "cell_type": "code",
   "execution_count": 64,
   "metadata": {},
   "outputs": [
    {
     "output_type": "execute_result",
     "data": {
      "text/plain": [
       "   P    Age     Sex      CDate        CCity CState Ccountry-iso_alpha  \\\n",
       "9  J  41-55  Female 2020-03-10  Quezon City   None                PHL   \n",
       "\n",
       "                            Mem                       3Wrds  \\\n",
       "9  My mother in law passed away  scared, panicked, confused   \n",
       "\n",
       "                        ColorB ColorHex  \\\n",
       "9  I have no color deficiency.  #FF6666   \n",
       "\n",
       "                                            ColorRes  CDyear CDmm-dd  length  \n",
       "9  It is like a fading red color. There is still ...    2020   03-10      28  "
      ],
      "text/html": "<div>\n<style scoped>\n    .dataframe tbody tr th:only-of-type {\n        vertical-align: middle;\n    }\n\n    .dataframe tbody tr th {\n        vertical-align: top;\n    }\n\n    .dataframe thead th {\n        text-align: right;\n    }\n</style>\n<table border=\"1\" class=\"dataframe\">\n  <thead>\n    <tr style=\"text-align: right;\">\n      <th></th>\n      <th>P</th>\n      <th>Age</th>\n      <th>Sex</th>\n      <th>CDate</th>\n      <th>CCity</th>\n      <th>CState</th>\n      <th>Ccountry-iso_alpha</th>\n      <th>Mem</th>\n      <th>3Wrds</th>\n      <th>ColorB</th>\n      <th>ColorHex</th>\n      <th>ColorRes</th>\n      <th>CDyear</th>\n      <th>CDmm-dd</th>\n      <th>length</th>\n    </tr>\n  </thead>\n  <tbody>\n    <tr>\n      <th>9</th>\n      <td>J</td>\n      <td>41-55</td>\n      <td>Female</td>\n      <td>2020-03-10</td>\n      <td>Quezon City</td>\n      <td>None</td>\n      <td>PHL</td>\n      <td>My mother in law passed away</td>\n      <td>scared, panicked, confused</td>\n      <td>I have no color deficiency.</td>\n      <td>#FF6666</td>\n      <td>It is like a fading red color. There is still ...</td>\n      <td>2020</td>\n      <td>03-10</td>\n      <td>28</td>\n    </tr>\n  </tbody>\n</table>\n</div>"
     },
     "metadata": {},
     "execution_count": 64
    }
   ],
   "source": [
    "# let's look at the shortest and longest memories\n",
    "# shortest\n",
    "df_survey_raw[df_survey_raw['length']==28]"
   ]
  },
  {
   "cell_type": "code",
   "execution_count": 65,
   "metadata": {},
   "outputs": [
    {
     "output_type": "execute_result",
     "data": {
      "text/plain": [
       "'My mother in law passed away'"
      ]
     },
     "metadata": {},
     "execution_count": 65
    }
   ],
   "source": [
    "df_survey_raw[df_survey_raw['length']==28]['Mem'].iloc[0]"
   ]
  },
  {
   "cell_type": "code",
   "execution_count": 66,
   "metadata": {},
   "outputs": [
    {
     "output_type": "execute_result",
     "data": {
      "text/plain": [
       "   P    Age     Sex      CDate     CCity    CState Ccountry-iso_alpha  \\\n",
       "1  B  25-40  Female 2020-01-24  Brooklyn  New York                USA   \n",
       "\n",
       "                                                 Mem  \\\n",
       "1  A lot of things came to my mind. It was hard t...   \n",
       "\n",
       "                      3Wrds                       ColorB ColorHex  \\\n",
       "1  Chinese, friendly, funny  I have no color deficiency.  #CC0000   \n",
       "\n",
       "                                          ColorRes  CDyear CDmm-dd  length  \n",
       "1  Red is the official color of Chinese New Year:)    2020   01-24    1555  "
      ],
      "text/html": "<div>\n<style scoped>\n    .dataframe tbody tr th:only-of-type {\n        vertical-align: middle;\n    }\n\n    .dataframe tbody tr th {\n        vertical-align: top;\n    }\n\n    .dataframe thead th {\n        text-align: right;\n    }\n</style>\n<table border=\"1\" class=\"dataframe\">\n  <thead>\n    <tr style=\"text-align: right;\">\n      <th></th>\n      <th>P</th>\n      <th>Age</th>\n      <th>Sex</th>\n      <th>CDate</th>\n      <th>CCity</th>\n      <th>CState</th>\n      <th>Ccountry-iso_alpha</th>\n      <th>Mem</th>\n      <th>3Wrds</th>\n      <th>ColorB</th>\n      <th>ColorHex</th>\n      <th>ColorRes</th>\n      <th>CDyear</th>\n      <th>CDmm-dd</th>\n      <th>length</th>\n    </tr>\n  </thead>\n  <tbody>\n    <tr>\n      <th>1</th>\n      <td>B</td>\n      <td>25-40</td>\n      <td>Female</td>\n      <td>2020-01-24</td>\n      <td>Brooklyn</td>\n      <td>New York</td>\n      <td>USA</td>\n      <td>A lot of things came to my mind. It was hard t...</td>\n      <td>Chinese, friendly, funny</td>\n      <td>I have no color deficiency.</td>\n      <td>#CC0000</td>\n      <td>Red is the official color of Chinese New Year:)</td>\n      <td>2020</td>\n      <td>01-24</td>\n      <td>1555</td>\n    </tr>\n  </tbody>\n</table>\n</div>"
     },
     "metadata": {},
     "execution_count": 66
    }
   ],
   "source": [
    "df_survey_raw[df_survey_raw['length']==1555]"
   ]
  },
  {
   "cell_type": "code",
   "execution_count": 67,
   "metadata": {},
   "outputs": [
    {
     "output_type": "execute_result",
     "data": {
      "text/plain": [
       "\"A lot of things came to my mind. It was hard to choose something specific, nothing special happened during the time of pandemic with me. It’s more about adaptation to the new “isolated” lifestyle. And all the simple things such as going outside with a friend, 1-day trip somewhere to the upstate, meeting new person… all these getting more special than it was before. \\nOne thing I wanted to describe in 2020 is the Chinese New Year. It was the night between Jan 24 and Jan 25. Like a month before Pratt was closed and we started to take classes/work from home. Some people already started wearing masks. Soo it was a party somewhere in Ridgewood organized by one of the students at Pratt. I wasn’t sure I want to go because I knew nothing about Chinese traditions and had no idea what we all are going to do there. They also asked to wear everything red (“good-luck” tradition) and I had no red clothes at all. This day I got a text message from Martha. She asked if we can go together. She also had nothing red and made for us red bracelets; we decided to go and leave at any point if something goes weird. It turned out to be a super fun party. We cooked dumplings all together. I learned a lot about Chinese cuisine and met a lot of Pratt students I haven’t met before. It felt unusual to met the same people but in another environment. I also lost my phone and keys and couldn't find them for a couple of hours 🤦\\u200d♀️ \\nit was so adequate and nice, I couldn’t even expect 😂 this is probably not the most memorable pandemic event, but it’s what I remember\""
      ]
     },
     "metadata": {},
     "execution_count": 67
    }
   ],
   "source": [
    "df_survey_raw[df_survey_raw['length']==1555]['Mem'].iloc[0]"
   ]
  },
  {
   "cell_type": "code",
   "execution_count": 68,
   "metadata": {},
   "outputs": [
    {
     "output_type": "display_data",
     "data": {
      "text/plain": "<Figure size 864x360 with 1 Axes>",
      "image/png": "[encoded data removed]"
     },
     "metadata": {
      "needs_background": "light"
     }
    }
   ],
   "source": [
    "# plot counts of memories by color\n",
    "fig = plt.figure(figsize=(12,5))\n",
    "df_survey_raw['ColorHex'].value_counts().sort_index().plot(kind='bar')\n",
    "plt.ylabel(\"Number of COVID-19 Memories\")\n",
    "plt.title(\"Count of COVID-19 Memories Depicted by Color\")\n",
    "plt.savefig('/Users/diedrebrown/Desktop/GitHubRepos/inthetimeofcovid/images/2020-memoriesbycolor.png', dpi=300)\n",
    "plt.show()"
   ]
  },
  {
   "cell_type": "code",
   "execution_count": 75,
   "metadata": {},
   "outputs": [
    {
     "output_type": "execute_result",
     "data": {
      "text/plain": [
       "count          14\n",
       "unique         12\n",
       "top       #CC0000\n",
       "freq            3\n",
       "Name: ColorHex, dtype: object"
      ]
     },
     "metadata": {},
     "execution_count": 75
    }
   ],
   "source": [
    "df_survey_raw['ColorHex'].describe()"
   ]
  },
  {
   "cell_type": "code",
   "execution_count": null,
   "metadata": {},
   "outputs": [],
   "source": []
  },
  {
   "source": [
    "## Sentiment Analysis"
   ],
   "cell_type": "markdown",
   "metadata": {}
  },
  {
   "cell_type": "code",
   "execution_count": 39,
   "metadata": {},
   "outputs": [
    {
     "output_type": "execute_result",
     "data": {
      "text/plain": [
       "    P    Age     Sex      CDate        CCity            CState  \\\n",
       "0   A  25-40  Female 2020-03-11       Surrey  British Columbia   \n",
       "1   B  25-40  Female 2020-01-24     Brooklyn          New York   \n",
       "2   C  41-55  Female 2020-03-13     Brooklyn          New York   \n",
       "3   D  25-40  Female 2020-03-30      Radford           Virgina   \n",
       "4   E  25-40    Male 2020-03-08       Newark        New Jersey   \n",
       "5   F  25-40  Female 2020-03-16    Charlotte    North Carolina   \n",
       "6   G  25-40     NaN 2020-08-02    Sunnyside          New York   \n",
       "7   H  18-24  Female 2020-03-17  East Meadow          New York   \n",
       "8   I  25-40    Male 2020-05-31  Philadephia      Pennsylvania   \n",
       "9   J  41-55  Female 2020-03-10  Quezon City              None   \n",
       "10  K  25-40  Female 2020-03-11    Fair Lawn        New Jersey   \n",
       "11  L  25-40  Female 2020-03-07     Brooklyn          New York   \n",
       "12  M  25-40  Female 2020-05-29     Brooklyn          New York   \n",
       "13  N  25-40    Male 2020-03-22     Paterson        New Jersey   \n",
       "\n",
       "   Ccountry-iso_alpha                                                Mem  \\\n",
       "0                 CAN  I recall having a team meeting at work with lo...   \n",
       "1                 USA  A lot of things came to my mind. It was hard t...   \n",
       "2                 USA  It was the day that I learned that public scho...   \n",
       "3                 USA  My Grandmother passed away and we couldn’t gri...   \n",
       "4                 USA  I hope this doesn’t feel like too ‘silly’ of a...   \n",
       "5                 USA  It was the day I broke down and almost ruined ...   \n",
       "6                 USA  Based on your parameters this was part of the ...   \n",
       "7                 USA  This is the date that everything closed down. ...   \n",
       "8                 USA  Attended my first public gathering in protest....   \n",
       "9                 PHL                       My mother in law passed away   \n",
       "10                USA  So, on this data, I received notification that...   \n",
       "11                USA  It was the last time we got together with abou...   \n",
       "12                USA  On May 29th 2020 I put down my dog who had bee...   \n",
       "13                USA  It was the day that the NJ statewide curfew be...   \n",
       "\n",
       "                                      3Wrds                       ColorB  \\\n",
       "0                 Fun, overwhelming, tiring  I have no color deficiency.   \n",
       "1                  Chinese, friendly, funny  I have no color deficiency.   \n",
       "2             disbelief, confusion, concern  I have no color deficiency.   \n",
       "3                    Angry, Sunken, bitter   I have no color deficiency.   \n",
       "4   Exhilarating, overindulgent, inspiring   I have no color deficiency.   \n",
       "5              stressful, upset, hysterical  I have no color deficiency.   \n",
       "6                     Relief, pain, anxious  I have no color deficiency.   \n",
       "7                  Scared, surreal, worried  I have no color deficiency.   \n",
       "8           enlightening, freeing, powerful  I have no color deficiency.   \n",
       "9                scared, panicked, confused  I have no color deficiency.   \n",
       "10               Anxious, Unnerved, Fearful  I have no color deficiency.   \n",
       "11                      Happy, fun, unaware  I have no color deficiency.   \n",
       "12                       Empty, grim, fake.  I have no color deficiency.   \n",
       "13                fearful, anxious, worried  I have no color deficiency.   \n",
       "\n",
       "   ColorHex                                           ColorRes  CDyear  \\\n",
       "0      NONE                                               NONE    2020   \n",
       "1   #CC0000    Red is the official color of Chinese New Year:)    2020   \n",
       "2   #660000              Red reminds me of school, and concern    2020   \n",
       "3   #330066                       It feels like a somber color    2020   \n",
       "4   #CC0000  The concert design largely used this color, so...    2020   \n",
       "5   #FF3300  There were high tensions, but no rage, which I...    2020   \n",
       "6   #FF0099       Bold color but pleasing, slightly unsettling    2020   \n",
       "7   #000066  Blue to me is a nervous, cold, anxious color. ...    2020   \n",
       "8   #CC0000  I think it was mostly due to the colors I saw ...    2020   \n",
       "9   #FF6666  It is like a fading red color. There is still ...    2020   \n",
       "10  #0066FF  It reminds me of Twitter blue. I remember endl...    2020   \n",
       "11  #00CCCC  It's joyful but has some grey tones in it so n...    2020   \n",
       "12  #999999  I can’t remember at this point what the weathe...    2020   \n",
       "13  #000000  Absolute darkness provokes high levels of fear...    2020   \n",
       "\n",
       "   CDmm-dd  length  \n",
       "0    03-11     267  \n",
       "1    01-24    1555  \n",
       "2    03-13      89  \n",
       "3    03-30     466  \n",
       "4    03-08    1131  \n",
       "5    03-16    1110  \n",
       "6    08-02     397  \n",
       "7    03-17     256  \n",
       "8    05-31     632  \n",
       "9    03-10      28  \n",
       "10   03-11     883  \n",
       "11   03-07     200  \n",
       "12   05-29     872  \n",
       "13   03-22     208  "
      ],
      "text/html": "<div>\n<style scoped>\n    .dataframe tbody tr th:only-of-type {\n        vertical-align: middle;\n    }\n\n    .dataframe tbody tr th {\n        vertical-align: top;\n    }\n\n    .dataframe thead th {\n        text-align: right;\n    }\n</style>\n<table border=\"1\" class=\"dataframe\">\n  <thead>\n    <tr style=\"text-align: right;\">\n      <th></th>\n      <th>P</th>\n      <th>Age</th>\n      <th>Sex</th>\n      <th>CDate</th>\n      <th>CCity</th>\n      <th>CState</th>\n      <th>Ccountry-iso_alpha</th>\n      <th>Mem</th>\n      <th>3Wrds</th>\n      <th>ColorB</th>\n      <th>ColorHex</th>\n      <th>ColorRes</th>\n      <th>CDyear</th>\n      <th>CDmm-dd</th>\n      <th>length</th>\n    </tr>\n  </thead>\n  <tbody>\n    <tr>\n      <th>0</th>\n      <td>A</td>\n      <td>25-40</td>\n      <td>Female</td>\n      <td>2020-03-11</td>\n      <td>Surrey</td>\n      <td>British Columbia</td>\n      <td>CAN</td>\n      <td>I recall having a team meeting at work with lo...</td>\n      <td>Fun, overwhelming, tiring</td>\n      <td>I have no color deficiency.</td>\n      <td>NONE</td>\n      <td>NONE</td>\n      <td>2020</td>\n      <td>03-11</td>\n      <td>267</td>\n    </tr>\n    <tr>\n      <th>1</th>\n      <td>B</td>\n      <td>25-40</td>\n      <td>Female</td>\n      <td>2020-01-24</td>\n      <td>Brooklyn</td>\n      <td>New York</td>\n      <td>USA</td>\n      <td>A lot of things came to my mind. It was hard t...</td>\n      <td>Chinese, friendly, funny</td>\n      <td>I have no color deficiency.</td>\n      <td>#CC0000</td>\n      <td>Red is the official color of Chinese New Year:)</td>\n      <td>2020</td>\n      <td>01-24</td>\n      <td>1555</td>\n    </tr>\n    <tr>\n      <th>2</th>\n      <td>C</td>\n      <td>41-55</td>\n      <td>Female</td>\n      <td>2020-03-13</td>\n      <td>Brooklyn</td>\n      <td>New York</td>\n      <td>USA</td>\n      <td>It was the day that I learned that public scho...</td>\n      <td>disbelief, confusion, concern</td>\n      <td>I have no color deficiency.</td>\n      <td>#660000</td>\n      <td>Red reminds me of school, and concern</td>\n      <td>2020</td>\n      <td>03-13</td>\n      <td>89</td>\n    </tr>\n    <tr>\n      <th>3</th>\n      <td>D</td>\n      <td>25-40</td>\n      <td>Female</td>\n      <td>2020-03-30</td>\n      <td>Radford</td>\n      <td>Virgina</td>\n      <td>USA</td>\n      <td>My Grandmother passed away and we couldn’t gri...</td>\n      <td>Angry, Sunken, bitter</td>\n      <td>I have no color deficiency.</td>\n      <td>#330066</td>\n      <td>It feels like a somber color</td>\n      <td>2020</td>\n      <td>03-30</td>\n      <td>466</td>\n    </tr>\n    <tr>\n      <th>4</th>\n      <td>E</td>\n      <td>25-40</td>\n      <td>Male</td>\n      <td>2020-03-08</td>\n      <td>Newark</td>\n      <td>New Jersey</td>\n      <td>USA</td>\n      <td>I hope this doesn’t feel like too ‘silly’ of a...</td>\n      <td>Exhilarating, overindulgent, inspiring</td>\n      <td>I have no color deficiency.</td>\n      <td>#CC0000</td>\n      <td>The concert design largely used this color, so...</td>\n      <td>2020</td>\n      <td>03-08</td>\n      <td>1131</td>\n    </tr>\n    <tr>\n      <th>5</th>\n      <td>F</td>\n      <td>25-40</td>\n      <td>Female</td>\n      <td>2020-03-16</td>\n      <td>Charlotte</td>\n      <td>North Carolina</td>\n      <td>USA</td>\n      <td>It was the day I broke down and almost ruined ...</td>\n      <td>stressful, upset, hysterical</td>\n      <td>I have no color deficiency.</td>\n      <td>#FF3300</td>\n      <td>There were high tensions, but no rage, which I...</td>\n      <td>2020</td>\n      <td>03-16</td>\n      <td>1110</td>\n    </tr>\n    <tr>\n      <th>6</th>\n      <td>G</td>\n      <td>25-40</td>\n      <td>NaN</td>\n      <td>2020-08-02</td>\n      <td>Sunnyside</td>\n      <td>New York</td>\n      <td>USA</td>\n      <td>Based on your parameters this was part of the ...</td>\n      <td>Relief, pain, anxious</td>\n      <td>I have no color deficiency.</td>\n      <td>#FF0099</td>\n      <td>Bold color but pleasing, slightly unsettling</td>\n      <td>2020</td>\n      <td>08-02</td>\n      <td>397</td>\n    </tr>\n    <tr>\n      <th>7</th>\n      <td>H</td>\n      <td>18-24</td>\n      <td>Female</td>\n      <td>2020-03-17</td>\n      <td>East Meadow</td>\n      <td>New York</td>\n      <td>USA</td>\n      <td>This is the date that everything closed down. ...</td>\n      <td>Scared, surreal, worried</td>\n      <td>I have no color deficiency.</td>\n      <td>#000066</td>\n      <td>Blue to me is a nervous, cold, anxious color. ...</td>\n      <td>2020</td>\n      <td>03-17</td>\n      <td>256</td>\n    </tr>\n    <tr>\n      <th>8</th>\n      <td>I</td>\n      <td>25-40</td>\n      <td>Male</td>\n      <td>2020-05-31</td>\n      <td>Philadephia</td>\n      <td>Pennsylvania</td>\n      <td>USA</td>\n      <td>Attended my first public gathering in protest....</td>\n      <td>enlightening, freeing, powerful</td>\n      <td>I have no color deficiency.</td>\n      <td>#CC0000</td>\n      <td>I think it was mostly due to the colors I saw ...</td>\n      <td>2020</td>\n      <td>05-31</td>\n      <td>632</td>\n    </tr>\n    <tr>\n      <th>9</th>\n      <td>J</td>\n      <td>41-55</td>\n      <td>Female</td>\n      <td>2020-03-10</td>\n      <td>Quezon City</td>\n      <td>None</td>\n      <td>PHL</td>\n      <td>My mother in law passed away</td>\n      <td>scared, panicked, confused</td>\n      <td>I have no color deficiency.</td>\n      <td>#FF6666</td>\n      <td>It is like a fading red color. There is still ...</td>\n      <td>2020</td>\n      <td>03-10</td>\n      <td>28</td>\n    </tr>\n    <tr>\n      <th>10</th>\n      <td>K</td>\n      <td>25-40</td>\n      <td>Female</td>\n      <td>2020-03-11</td>\n      <td>Fair Lawn</td>\n      <td>New Jersey</td>\n      <td>USA</td>\n      <td>So, on this data, I received notification that...</td>\n      <td>Anxious, Unnerved, Fearful</td>\n      <td>I have no color deficiency.</td>\n      <td>#0066FF</td>\n      <td>It reminds me of Twitter blue. I remember endl...</td>\n      <td>2020</td>\n      <td>03-11</td>\n      <td>883</td>\n    </tr>\n    <tr>\n      <th>11</th>\n      <td>L</td>\n      <td>25-40</td>\n      <td>Female</td>\n      <td>2020-03-07</td>\n      <td>Brooklyn</td>\n      <td>New York</td>\n      <td>USA</td>\n      <td>It was the last time we got together with abou...</td>\n      <td>Happy, fun, unaware</td>\n      <td>I have no color deficiency.</td>\n      <td>#00CCCC</td>\n      <td>It's joyful but has some grey tones in it so n...</td>\n      <td>2020</td>\n      <td>03-07</td>\n      <td>200</td>\n    </tr>\n    <tr>\n      <th>12</th>\n      <td>M</td>\n      <td>25-40</td>\n      <td>Female</td>\n      <td>2020-05-29</td>\n      <td>Brooklyn</td>\n      <td>New York</td>\n      <td>USA</td>\n      <td>On May 29th 2020 I put down my dog who had bee...</td>\n      <td>Empty, grim, fake.</td>\n      <td>I have no color deficiency.</td>\n      <td>#999999</td>\n      <td>I can’t remember at this point what the weathe...</td>\n      <td>2020</td>\n      <td>05-29</td>\n      <td>872</td>\n    </tr>\n    <tr>\n      <th>13</th>\n      <td>N</td>\n      <td>25-40</td>\n      <td>Male</td>\n      <td>2020-03-22</td>\n      <td>Paterson</td>\n      <td>New Jersey</td>\n      <td>USA</td>\n      <td>It was the day that the NJ statewide curfew be...</td>\n      <td>fearful, anxious, worried</td>\n      <td>I have no color deficiency.</td>\n      <td>#000000</td>\n      <td>Absolute darkness provokes high levels of fear...</td>\n      <td>2020</td>\n      <td>03-22</td>\n      <td>208</td>\n    </tr>\n  </tbody>\n</table>\n</div>"
     },
     "metadata": {},
     "execution_count": 39
    }
   ],
   "source": [
    "# load df\n",
    "df_covidtext = df_survey_raw\n",
    "df_covidtext"
   ]
  },
  {
   "cell_type": "code",
   "execution_count": 40,
   "metadata": {},
   "outputs": [
    {
     "output_type": "execute_result",
     "data": {
      "text/plain": [
       "                                                  Mem  \\\n",
       "0   I recall having a team meeting at work with lo...   \n",
       "1   A lot of things came to my mind. It was hard t...   \n",
       "2   It was the day that I learned that public scho...   \n",
       "3   My Grandmother passed away and we couldn’t gri...   \n",
       "4   I hope this doesn’t feel like too ‘silly’ of a...   \n",
       "5   It was the day I broke down and almost ruined ...   \n",
       "6   Based on your parameters this was part of the ...   \n",
       "7   This is the date that everything closed down. ...   \n",
       "8   Attended my first public gathering in protest....   \n",
       "9                        My mother in law passed away   \n",
       "10  So, on this data, I received notification that...   \n",
       "11  It was the last time we got together with abou...   \n",
       "12  On May 29th 2020 I put down my dog who had bee...   \n",
       "13  It was the day that the NJ statewide curfew be...   \n",
       "\n",
       "                                      3Wrds ColorHex  \\\n",
       "0                 Fun, overwhelming, tiring     NONE   \n",
       "1                  Chinese, friendly, funny  #CC0000   \n",
       "2             disbelief, confusion, concern  #660000   \n",
       "3                    Angry, Sunken, bitter   #330066   \n",
       "4   Exhilarating, overindulgent, inspiring   #CC0000   \n",
       "5              stressful, upset, hysterical  #FF3300   \n",
       "6                     Relief, pain, anxious  #FF0099   \n",
       "7                  Scared, surreal, worried  #000066   \n",
       "8           enlightening, freeing, powerful  #CC0000   \n",
       "9                scared, panicked, confused  #FF6666   \n",
       "10               Anxious, Unnerved, Fearful  #0066FF   \n",
       "11                      Happy, fun, unaware  #00CCCC   \n",
       "12                       Empty, grim, fake.  #999999   \n",
       "13                fearful, anxious, worried  #000000   \n",
       "\n",
       "                                             ColorRes  \n",
       "0                                                NONE  \n",
       "1     Red is the official color of Chinese New Year:)  \n",
       "2               Red reminds me of school, and concern  \n",
       "3                        It feels like a somber color  \n",
       "4   The concert design largely used this color, so...  \n",
       "5   There were high tensions, but no rage, which I...  \n",
       "6        Bold color but pleasing, slightly unsettling  \n",
       "7   Blue to me is a nervous, cold, anxious color. ...  \n",
       "8   I think it was mostly due to the colors I saw ...  \n",
       "9   It is like a fading red color. There is still ...  \n",
       "10  It reminds me of Twitter blue. I remember endl...  \n",
       "11  It's joyful but has some grey tones in it so n...  \n",
       "12  I can’t remember at this point what the weathe...  \n",
       "13  Absolute darkness provokes high levels of fear...  "
      ],
      "text/html": "<div>\n<style scoped>\n    .dataframe tbody tr th:only-of-type {\n        vertical-align: middle;\n    }\n\n    .dataframe tbody tr th {\n        vertical-align: top;\n    }\n\n    .dataframe thead th {\n        text-align: right;\n    }\n</style>\n<table border=\"1\" class=\"dataframe\">\n  <thead>\n    <tr style=\"text-align: right;\">\n      <th></th>\n      <th>Mem</th>\n      <th>3Wrds</th>\n      <th>ColorHex</th>\n      <th>ColorRes</th>\n    </tr>\n  </thead>\n  <tbody>\n    <tr>\n      <th>0</th>\n      <td>I recall having a team meeting at work with lo...</td>\n      <td>Fun, overwhelming, tiring</td>\n      <td>NONE</td>\n      <td>NONE</td>\n    </tr>\n    <tr>\n      <th>1</th>\n      <td>A lot of things came to my mind. It was hard t...</td>\n      <td>Chinese, friendly, funny</td>\n      <td>#CC0000</td>\n      <td>Red is the official color of Chinese New Year:)</td>\n    </tr>\n    <tr>\n      <th>2</th>\n      <td>It was the day that I learned that public scho...</td>\n      <td>disbelief, confusion, concern</td>\n      <td>#660000</td>\n      <td>Red reminds me of school, and concern</td>\n    </tr>\n    <tr>\n      <th>3</th>\n      <td>My Grandmother passed away and we couldn’t gri...</td>\n      <td>Angry, Sunken, bitter</td>\n      <td>#330066</td>\n      <td>It feels like a somber color</td>\n    </tr>\n    <tr>\n      <th>4</th>\n      <td>I hope this doesn’t feel like too ‘silly’ of a...</td>\n      <td>Exhilarating, overindulgent, inspiring</td>\n      <td>#CC0000</td>\n      <td>The concert design largely used this color, so...</td>\n    </tr>\n    <tr>\n      <th>5</th>\n      <td>It was the day I broke down and almost ruined ...</td>\n      <td>stressful, upset, hysterical</td>\n      <td>#FF3300</td>\n      <td>There were high tensions, but no rage, which I...</td>\n    </tr>\n    <tr>\n      <th>6</th>\n      <td>Based on your parameters this was part of the ...</td>\n      <td>Relief, pain, anxious</td>\n      <td>#FF0099</td>\n      <td>Bold color but pleasing, slightly unsettling</td>\n    </tr>\n    <tr>\n      <th>7</th>\n      <td>This is the date that everything closed down. ...</td>\n      <td>Scared, surreal, worried</td>\n      <td>#000066</td>\n      <td>Blue to me is a nervous, cold, anxious color. ...</td>\n    </tr>\n    <tr>\n      <th>8</th>\n      <td>Attended my first public gathering in protest....</td>\n      <td>enlightening, freeing, powerful</td>\n      <td>#CC0000</td>\n      <td>I think it was mostly due to the colors I saw ...</td>\n    </tr>\n    <tr>\n      <th>9</th>\n      <td>My mother in law passed away</td>\n      <td>scared, panicked, confused</td>\n      <td>#FF6666</td>\n      <td>It is like a fading red color. There is still ...</td>\n    </tr>\n    <tr>\n      <th>10</th>\n      <td>So, on this data, I received notification that...</td>\n      <td>Anxious, Unnerved, Fearful</td>\n      <td>#0066FF</td>\n      <td>It reminds me of Twitter blue. I remember endl...</td>\n    </tr>\n    <tr>\n      <th>11</th>\n      <td>It was the last time we got together with abou...</td>\n      <td>Happy, fun, unaware</td>\n      <td>#00CCCC</td>\n      <td>It's joyful but has some grey tones in it so n...</td>\n    </tr>\n    <tr>\n      <th>12</th>\n      <td>On May 29th 2020 I put down my dog who had bee...</td>\n      <td>Empty, grim, fake.</td>\n      <td>#999999</td>\n      <td>I can’t remember at this point what the weathe...</td>\n    </tr>\n    <tr>\n      <th>13</th>\n      <td>It was the day that the NJ statewide curfew be...</td>\n      <td>fearful, anxious, worried</td>\n      <td>#000000</td>\n      <td>Absolute darkness provokes high levels of fear...</td>\n    </tr>\n  </tbody>\n</table>\n</div>"
     },
     "metadata": {},
     "execution_count": 40
    }
   ],
   "source": [
    "# let's pull just the Mem and 3Wrds columns from the dfcovidtext\n",
    "df_memcorpus = df_covidtext[['Mem','3Wrds','ColorHex',\t'ColorRes']]\n",
    "df_memcorpus"
   ]
  },
  {
   "source": [
    "### VADER (Valence Aware Dictionary for sEntiment Reasoning)\n",
    "Vader is a model used for text sentiment analysis that is sensitive to both polarity (pos/neg) and instensity (strenght) of emotion."
   ],
   "cell_type": "markdown",
   "metadata": {}
  },
  {
   "cell_type": "code",
   "execution_count": 41,
   "metadata": {},
   "outputs": [],
   "source": [
    "# Create an object/instance\n",
    "sent = SentimentIntensityAnalyzer()"
   ]
  },
  {
   "cell_type": "code",
   "execution_count": 42,
   "metadata": {},
   "outputs": [],
   "source": [
    "# Sentiment of COVID Memory\n",
    "score_com = []\n",
    "score_pos = []\n",
    "score_neg = []\n",
    "for i in range(0,df_memcorpus.shape[0] ):\n",
    "    memscore = sent.polarity_scores(df_memcorpus['Mem'].iloc[i])\n",
    "    score1 = memscore['compound']\n",
    "    score_com.append(score1)\n",
    "    # extract the positive sentiment\n",
    "    score2 = memscore['pos']\n",
    "    score_pos.append(score2)\n",
    "    # extract the negative sentiment\n",
    "    score2 = memscore['neg']\n",
    "    score_neg.append(score2)"
   ]
  },
  {
   "cell_type": "code",
   "execution_count": 43,
   "metadata": {},
   "outputs": [],
   "source": [
    "df_memcorpus['MemCScore'] = score_com\n",
    "df_memcorpus['MemPScore'] = score_pos\n",
    "df_memcorpus['MemNScore'] = score_neg"
   ]
  },
  {
   "cell_type": "code",
   "execution_count": 44,
   "metadata": {},
   "outputs": [
    {
     "output_type": "execute_result",
     "data": {
      "text/plain": [
       "                                                  Mem  \\\n",
       "0   I recall having a team meeting at work with lo...   \n",
       "1   A lot of things came to my mind. It was hard t...   \n",
       "2   It was the day that I learned that public scho...   \n",
       "3   My Grandmother passed away and we couldn’t gri...   \n",
       "4   I hope this doesn’t feel like too ‘silly’ of a...   \n",
       "5   It was the day I broke down and almost ruined ...   \n",
       "6   Based on your parameters this was part of the ...   \n",
       "7   This is the date that everything closed down. ...   \n",
       "8   Attended my first public gathering in protest....   \n",
       "9                        My mother in law passed away   \n",
       "10  So, on this data, I received notification that...   \n",
       "11  It was the last time we got together with abou...   \n",
       "12  On May 29th 2020 I put down my dog who had bee...   \n",
       "13  It was the day that the NJ statewide curfew be...   \n",
       "\n",
       "                                      3Wrds ColorHex  \\\n",
       "0                 Fun, overwhelming, tiring     NONE   \n",
       "1                  Chinese, friendly, funny  #CC0000   \n",
       "2             disbelief, confusion, concern  #660000   \n",
       "3                    Angry, Sunken, bitter   #330066   \n",
       "4   Exhilarating, overindulgent, inspiring   #CC0000   \n",
       "5              stressful, upset, hysterical  #FF3300   \n",
       "6                     Relief, pain, anxious  #FF0099   \n",
       "7                  Scared, surreal, worried  #000066   \n",
       "8           enlightening, freeing, powerful  #CC0000   \n",
       "9                scared, panicked, confused  #FF6666   \n",
       "10               Anxious, Unnerved, Fearful  #0066FF   \n",
       "11                      Happy, fun, unaware  #00CCCC   \n",
       "12                       Empty, grim, fake.  #999999   \n",
       "13                fearful, anxious, worried  #000000   \n",
       "\n",
       "                                             ColorRes  MemCScore  MemPScore  \\\n",
       "0                                                NONE     0.5562      0.072   \n",
       "1     Red is the official color of Chinese New Year:)     0.8772      0.077   \n",
       "2               Red reminds me of school, and concern     0.0000      0.000   \n",
       "3                        It feels like a somber color    -0.8834      0.066   \n",
       "4   The concert design largely used this color, so...     0.9354      0.107   \n",
       "5   There were high tensions, but no rage, which I...    -0.8951      0.080   \n",
       "6        Bold color but pleasing, slightly unsettling    -0.2714      0.000   \n",
       "7   Blue to me is a nervous, cold, anxious color. ...    -0.6453      0.000   \n",
       "8   I think it was mostly due to the colors I saw ...     0.9274      0.174   \n",
       "9   It is like a fading red color. There is still ...     0.0000      0.000   \n",
       "10  It reminds me of Twitter blue. I remember endl...    -0.1531      0.020   \n",
       "11  It's joyful but has some grey tones in it so n...     0.2617      0.054   \n",
       "12  I can’t remember at this point what the weathe...     0.8512      0.115   \n",
       "13  Absolute darkness provokes high levels of fear...     0.4404      0.098   \n",
       "\n",
       "    MemNScore  \n",
       "0       0.000  \n",
       "1       0.049  \n",
       "2       0.000  \n",
       "3       0.176  \n",
       "4       0.051  \n",
       "5       0.161  \n",
       "6       0.027  \n",
       "7       0.109  \n",
       "8       0.053  \n",
       "9       0.000  \n",
       "10      0.024  \n",
       "11      0.000  \n",
       "12      0.067  \n",
       "13      0.000  "
      ],
      "text/html": "<div>\n<style scoped>\n    .dataframe tbody tr th:only-of-type {\n        vertical-align: middle;\n    }\n\n    .dataframe tbody tr th {\n        vertical-align: top;\n    }\n\n    .dataframe thead th {\n        text-align: right;\n    }\n</style>\n<table border=\"1\" class=\"dataframe\">\n  <thead>\n    <tr style=\"text-align: right;\">\n      <th></th>\n      <th>Mem</th>\n      <th>3Wrds</th>\n      <th>ColorHex</th>\n      <th>ColorRes</th>\n      <th>MemCScore</th>\n      <th>MemPScore</th>\n      <th>MemNScore</th>\n    </tr>\n  </thead>\n  <tbody>\n    <tr>\n      <th>0</th>\n      <td>I recall having a team meeting at work with lo...</td>\n      <td>Fun, overwhelming, tiring</td>\n      <td>NONE</td>\n      <td>NONE</td>\n      <td>0.5562</td>\n      <td>0.072</td>\n      <td>0.000</td>\n    </tr>\n    <tr>\n      <th>1</th>\n      <td>A lot of things came to my mind. It was hard t...</td>\n      <td>Chinese, friendly, funny</td>\n      <td>#CC0000</td>\n      <td>Red is the official color of Chinese New Year:)</td>\n      <td>0.8772</td>\n      <td>0.077</td>\n      <td>0.049</td>\n    </tr>\n    <tr>\n      <th>2</th>\n      <td>It was the day that I learned that public scho...</td>\n      <td>disbelief, confusion, concern</td>\n      <td>#660000</td>\n      <td>Red reminds me of school, and concern</td>\n      <td>0.0000</td>\n      <td>0.000</td>\n      <td>0.000</td>\n    </tr>\n    <tr>\n      <th>3</th>\n      <td>My Grandmother passed away and we couldn’t gri...</td>\n      <td>Angry, Sunken, bitter</td>\n      <td>#330066</td>\n      <td>It feels like a somber color</td>\n      <td>-0.8834</td>\n      <td>0.066</td>\n      <td>0.176</td>\n    </tr>\n    <tr>\n      <th>4</th>\n      <td>I hope this doesn’t feel like too ‘silly’ of a...</td>\n      <td>Exhilarating, overindulgent, inspiring</td>\n      <td>#CC0000</td>\n      <td>The concert design largely used this color, so...</td>\n      <td>0.9354</td>\n      <td>0.107</td>\n      <td>0.051</td>\n    </tr>\n    <tr>\n      <th>5</th>\n      <td>It was the day I broke down and almost ruined ...</td>\n      <td>stressful, upset, hysterical</td>\n      <td>#FF3300</td>\n      <td>There were high tensions, but no rage, which I...</td>\n      <td>-0.8951</td>\n      <td>0.080</td>\n      <td>0.161</td>\n    </tr>\n    <tr>\n      <th>6</th>\n      <td>Based on your parameters this was part of the ...</td>\n      <td>Relief, pain, anxious</td>\n      <td>#FF0099</td>\n      <td>Bold color but pleasing, slightly unsettling</td>\n      <td>-0.2714</td>\n      <td>0.000</td>\n      <td>0.027</td>\n    </tr>\n    <tr>\n      <th>7</th>\n      <td>This is the date that everything closed down. ...</td>\n      <td>Scared, surreal, worried</td>\n      <td>#000066</td>\n      <td>Blue to me is a nervous, cold, anxious color. ...</td>\n      <td>-0.6453</td>\n      <td>0.000</td>\n      <td>0.109</td>\n    </tr>\n    <tr>\n      <th>8</th>\n      <td>Attended my first public gathering in protest....</td>\n      <td>enlightening, freeing, powerful</td>\n      <td>#CC0000</td>\n      <td>I think it was mostly due to the colors I saw ...</td>\n      <td>0.9274</td>\n      <td>0.174</td>\n      <td>0.053</td>\n    </tr>\n    <tr>\n      <th>9</th>\n      <td>My mother in law passed away</td>\n      <td>scared, panicked, confused</td>\n      <td>#FF6666</td>\n      <td>It is like a fading red color. There is still ...</td>\n      <td>0.0000</td>\n      <td>0.000</td>\n      <td>0.000</td>\n    </tr>\n    <tr>\n      <th>10</th>\n      <td>So, on this data, I received notification that...</td>\n      <td>Anxious, Unnerved, Fearful</td>\n      <td>#0066FF</td>\n      <td>It reminds me of Twitter blue. I remember endl...</td>\n      <td>-0.1531</td>\n      <td>0.020</td>\n      <td>0.024</td>\n    </tr>\n    <tr>\n      <th>11</th>\n      <td>It was the last time we got together with abou...</td>\n      <td>Happy, fun, unaware</td>\n      <td>#00CCCC</td>\n      <td>It's joyful but has some grey tones in it so n...</td>\n      <td>0.2617</td>\n      <td>0.054</td>\n      <td>0.000</td>\n    </tr>\n    <tr>\n      <th>12</th>\n      <td>On May 29th 2020 I put down my dog who had bee...</td>\n      <td>Empty, grim, fake.</td>\n      <td>#999999</td>\n      <td>I can’t remember at this point what the weathe...</td>\n      <td>0.8512</td>\n      <td>0.115</td>\n      <td>0.067</td>\n    </tr>\n    <tr>\n      <th>13</th>\n      <td>It was the day that the NJ statewide curfew be...</td>\n      <td>fearful, anxious, worried</td>\n      <td>#000000</td>\n      <td>Absolute darkness provokes high levels of fear...</td>\n      <td>0.4404</td>\n      <td>0.098</td>\n      <td>0.000</td>\n    </tr>\n  </tbody>\n</table>\n</div>"
     },
     "metadata": {},
     "execution_count": 44
    }
   ],
   "source": [
    "df_memcorpus"
   ]
  },
  {
   "cell_type": "code",
   "execution_count": 45,
   "metadata": {},
   "outputs": [],
   "source": [
    "# Sentiment of 3Wrds\n",
    "score_com = []\n",
    "score_pos = []\n",
    "score_neg = []\n",
    "for i in range(0,df_memcorpus.shape[0] ):\n",
    "    memscore = sent.polarity_scores(df_memcorpus['3Wrds'].iloc[i])\n",
    "    score1 = memscore['compound']\n",
    "    score_com.append(score1)\n",
    "    # extract the positive sentiment\n",
    "    score2 = memscore['pos']\n",
    "    score_pos.append(score2)\n",
    "    # extract the negative sentiment\n",
    "    score2 = memscore['neg']\n",
    "    score_neg.append(score2)"
   ]
  },
  {
   "cell_type": "code",
   "execution_count": 46,
   "metadata": {},
   "outputs": [],
   "source": [
    "df_memcorpus['3WCScore'] = score_com\n",
    "df_memcorpus['3WPScore'] = score_pos\n",
    "df_memcorpus['3WNScore'] = score_neg"
   ]
  },
  {
   "cell_type": "code",
   "execution_count": 47,
   "metadata": {},
   "outputs": [
    {
     "output_type": "execute_result",
     "data": {
      "text/plain": [
       "                                                  Mem  \\\n",
       "0   I recall having a team meeting at work with lo...   \n",
       "1   A lot of things came to my mind. It was hard t...   \n",
       "2   It was the day that I learned that public scho...   \n",
       "3   My Grandmother passed away and we couldn’t gri...   \n",
       "4   I hope this doesn’t feel like too ‘silly’ of a...   \n",
       "5   It was the day I broke down and almost ruined ...   \n",
       "6   Based on your parameters this was part of the ...   \n",
       "7   This is the date that everything closed down. ...   \n",
       "8   Attended my first public gathering in protest....   \n",
       "9                        My mother in law passed away   \n",
       "10  So, on this data, I received notification that...   \n",
       "11  It was the last time we got together with abou...   \n",
       "12  On May 29th 2020 I put down my dog who had bee...   \n",
       "13  It was the day that the NJ statewide curfew be...   \n",
       "\n",
       "                                      3Wrds ColorHex  \\\n",
       "0                 Fun, overwhelming, tiring     NONE   \n",
       "1                  Chinese, friendly, funny  #CC0000   \n",
       "2             disbelief, confusion, concern  #660000   \n",
       "3                    Angry, Sunken, bitter   #330066   \n",
       "4   Exhilarating, overindulgent, inspiring   #CC0000   \n",
       "5              stressful, upset, hysterical  #FF3300   \n",
       "6                     Relief, pain, anxious  #FF0099   \n",
       "7                  Scared, surreal, worried  #000066   \n",
       "8           enlightening, freeing, powerful  #CC0000   \n",
       "9                scared, panicked, confused  #FF6666   \n",
       "10               Anxious, Unnerved, Fearful  #0066FF   \n",
       "11                      Happy, fun, unaware  #00CCCC   \n",
       "12                       Empty, grim, fake.  #999999   \n",
       "13                fearful, anxious, worried  #000000   \n",
       "\n",
       "                                             ColorRes  MemCScore  MemPScore  \\\n",
       "0                                                NONE     0.5562      0.072   \n",
       "1     Red is the official color of Chinese New Year:)     0.8772      0.077   \n",
       "2               Red reminds me of school, and concern     0.0000      0.000   \n",
       "3                        It feels like a somber color    -0.8834      0.066   \n",
       "4   The concert design largely used this color, so...     0.9354      0.107   \n",
       "5   There were high tensions, but no rage, which I...    -0.8951      0.080   \n",
       "6        Bold color but pleasing, slightly unsettling    -0.2714      0.000   \n",
       "7   Blue to me is a nervous, cold, anxious color. ...    -0.6453      0.000   \n",
       "8   I think it was mostly due to the colors I saw ...     0.9274      0.174   \n",
       "9   It is like a fading red color. There is still ...     0.0000      0.000   \n",
       "10  It reminds me of Twitter blue. I remember endl...    -0.1531      0.020   \n",
       "11  It's joyful but has some grey tones in it so n...     0.2617      0.054   \n",
       "12  I can’t remember at this point what the weathe...     0.8512      0.115   \n",
       "13  Absolute darkness provokes high levels of fear...     0.4404      0.098   \n",
       "\n",
       "    MemNScore  3WCScore  3WPScore  3WNScore  \n",
       "0       0.000    0.5106     0.623     0.000  \n",
       "1       0.049    0.7269     0.859     0.000  \n",
       "2       0.000   -0.2960     0.000     0.524  \n",
       "3       0.176   -0.7269     0.000     0.859  \n",
       "4       0.051    0.6705     0.846     0.000  \n",
       "5       0.161   -0.7184     0.000     1.000  \n",
       "6       0.027   -0.2960     0.369     0.631  \n",
       "7       0.109   -0.6249     0.000     0.836  \n",
       "8       0.053    0.8481     1.000     0.000  \n",
       "9       0.000   -0.8020     0.000     1.000  \n",
       "10      0.024   -0.6369     0.000     0.839  \n",
       "11      0.000    0.7351     0.795     0.205  \n",
       "12      0.067   -0.8225     0.000     1.000  \n",
       "13      0.000   -0.7506     0.000     1.000  "
      ],
      "text/html": "<div>\n<style scoped>\n    .dataframe tbody tr th:only-of-type {\n        vertical-align: middle;\n    }\n\n    .dataframe tbody tr th {\n        vertical-align: top;\n    }\n\n    .dataframe thead th {\n        text-align: right;\n    }\n</style>\n<table border=\"1\" class=\"dataframe\">\n  <thead>\n    <tr style=\"text-align: right;\">\n      <th></th>\n      <th>Mem</th>\n      <th>3Wrds</th>\n      <th>ColorHex</th>\n      <th>ColorRes</th>\n      <th>MemCScore</th>\n      <th>MemPScore</th>\n      <th>MemNScore</th>\n      <th>3WCScore</th>\n      <th>3WPScore</th>\n      <th>3WNScore</th>\n    </tr>\n  </thead>\n  <tbody>\n    <tr>\n      <th>0</th>\n      <td>I recall having a team meeting at work with lo...</td>\n      <td>Fun, overwhelming, tiring</td>\n      <td>NONE</td>\n      <td>NONE</td>\n      <td>0.5562</td>\n      <td>0.072</td>\n      <td>0.000</td>\n      <td>0.5106</td>\n      <td>0.623</td>\n      <td>0.000</td>\n    </tr>\n    <tr>\n      <th>1</th>\n      <td>A lot of things came to my mind. It was hard t...</td>\n      <td>Chinese, friendly, funny</td>\n      <td>#CC0000</td>\n      <td>Red is the official color of Chinese New Year:)</td>\n      <td>0.8772</td>\n      <td>0.077</td>\n      <td>0.049</td>\n      <td>0.7269</td>\n      <td>0.859</td>\n      <td>0.000</td>\n    </tr>\n    <tr>\n      <th>2</th>\n      <td>It was the day that I learned that public scho...</td>\n      <td>disbelief, confusion, concern</td>\n      <td>#660000</td>\n      <td>Red reminds me of school, and concern</td>\n      <td>0.0000</td>\n      <td>0.000</td>\n      <td>0.000</td>\n      <td>-0.2960</td>\n      <td>0.000</td>\n      <td>0.524</td>\n    </tr>\n    <tr>\n      <th>3</th>\n      <td>My Grandmother passed away and we couldn’t gri...</td>\n      <td>Angry, Sunken, bitter</td>\n      <td>#330066</td>\n      <td>It feels like a somber color</td>\n      <td>-0.8834</td>\n      <td>0.066</td>\n      <td>0.176</td>\n      <td>-0.7269</td>\n      <td>0.000</td>\n      <td>0.859</td>\n    </tr>\n    <tr>\n      <th>4</th>\n      <td>I hope this doesn’t feel like too ‘silly’ of a...</td>\n      <td>Exhilarating, overindulgent, inspiring</td>\n      <td>#CC0000</td>\n      <td>The concert design largely used this color, so...</td>\n      <td>0.9354</td>\n      <td>0.107</td>\n      <td>0.051</td>\n      <td>0.6705</td>\n      <td>0.846</td>\n      <td>0.000</td>\n    </tr>\n    <tr>\n      <th>5</th>\n      <td>It was the day I broke down and almost ruined ...</td>\n      <td>stressful, upset, hysterical</td>\n      <td>#FF3300</td>\n      <td>There were high tensions, but no rage, which I...</td>\n      <td>-0.8951</td>\n      <td>0.080</td>\n      <td>0.161</td>\n      <td>-0.7184</td>\n      <td>0.000</td>\n      <td>1.000</td>\n    </tr>\n    <tr>\n      <th>6</th>\n      <td>Based on your parameters this was part of the ...</td>\n      <td>Relief, pain, anxious</td>\n      <td>#FF0099</td>\n      <td>Bold color but pleasing, slightly unsettling</td>\n      <td>-0.2714</td>\n      <td>0.000</td>\n      <td>0.027</td>\n      <td>-0.2960</td>\n      <td>0.369</td>\n      <td>0.631</td>\n    </tr>\n    <tr>\n      <th>7</th>\n      <td>This is the date that everything closed down. ...</td>\n      <td>Scared, surreal, worried</td>\n      <td>#000066</td>\n      <td>Blue to me is a nervous, cold, anxious color. ...</td>\n      <td>-0.6453</td>\n      <td>0.000</td>\n      <td>0.109</td>\n      <td>-0.6249</td>\n      <td>0.000</td>\n      <td>0.836</td>\n    </tr>\n    <tr>\n      <th>8</th>\n      <td>Attended my first public gathering in protest....</td>\n      <td>enlightening, freeing, powerful</td>\n      <td>#CC0000</td>\n      <td>I think it was mostly due to the colors I saw ...</td>\n      <td>0.9274</td>\n      <td>0.174</td>\n      <td>0.053</td>\n      <td>0.8481</td>\n      <td>1.000</td>\n      <td>0.000</td>\n    </tr>\n    <tr>\n      <th>9</th>\n      <td>My mother in law passed away</td>\n      <td>scared, panicked, confused</td>\n      <td>#FF6666</td>\n      <td>It is like a fading red color. There is still ...</td>\n      <td>0.0000</td>\n      <td>0.000</td>\n      <td>0.000</td>\n      <td>-0.8020</td>\n      <td>0.000</td>\n      <td>1.000</td>\n    </tr>\n    <tr>\n      <th>10</th>\n      <td>So, on this data, I received notification that...</td>\n      <td>Anxious, Unnerved, Fearful</td>\n      <td>#0066FF</td>\n      <td>It reminds me of Twitter blue. I remember endl...</td>\n      <td>-0.1531</td>\n      <td>0.020</td>\n      <td>0.024</td>\n      <td>-0.6369</td>\n      <td>0.000</td>\n      <td>0.839</td>\n    </tr>\n    <tr>\n      <th>11</th>\n      <td>It was the last time we got together with abou...</td>\n      <td>Happy, fun, unaware</td>\n      <td>#00CCCC</td>\n      <td>It's joyful but has some grey tones in it so n...</td>\n      <td>0.2617</td>\n      <td>0.054</td>\n      <td>0.000</td>\n      <td>0.7351</td>\n      <td>0.795</td>\n      <td>0.205</td>\n    </tr>\n    <tr>\n      <th>12</th>\n      <td>On May 29th 2020 I put down my dog who had bee...</td>\n      <td>Empty, grim, fake.</td>\n      <td>#999999</td>\n      <td>I can’t remember at this point what the weathe...</td>\n      <td>0.8512</td>\n      <td>0.115</td>\n      <td>0.067</td>\n      <td>-0.8225</td>\n      <td>0.000</td>\n      <td>1.000</td>\n    </tr>\n    <tr>\n      <th>13</th>\n      <td>It was the day that the NJ statewide curfew be...</td>\n      <td>fearful, anxious, worried</td>\n      <td>#000000</td>\n      <td>Absolute darkness provokes high levels of fear...</td>\n      <td>0.4404</td>\n      <td>0.098</td>\n      <td>0.000</td>\n      <td>-0.7506</td>\n      <td>0.000</td>\n      <td>1.000</td>\n    </tr>\n  </tbody>\n</table>\n</div>"
     },
     "metadata": {},
     "execution_count": 47
    }
   ],
   "source": [
    "df_memcorpus"
   ]
  },
  {
   "cell_type": "code",
   "execution_count": 48,
   "metadata": {},
   "outputs": [],
   "source": [
    "# Sentiment of Color\n",
    "score_com = []\n",
    "score_pos = []\n",
    "score_neg = []\n",
    "for i in range(0,df_memcorpus.shape[0] ):\n",
    "    memscore = sent.polarity_scores(df_memcorpus['ColorRes'].iloc[i])\n",
    "    score1 = memscore['compound']\n",
    "    score_com.append(score1)\n",
    "    # extract the positive sentiment\n",
    "    score2 = memscore['pos']\n",
    "    score_pos.append(score2)\n",
    "    # extract the negative sentiment\n",
    "    score2 = memscore['neg']\n",
    "    score_neg.append(score2)"
   ]
  },
  {
   "cell_type": "code",
   "execution_count": 49,
   "metadata": {},
   "outputs": [
    {
     "output_type": "execute_result",
     "data": {
      "text/plain": [
       "                                                  Mem  \\\n",
       "0   I recall having a team meeting at work with lo...   \n",
       "1   A lot of things came to my mind. It was hard t...   \n",
       "2   It was the day that I learned that public scho...   \n",
       "3   My Grandmother passed away and we couldn’t gri...   \n",
       "4   I hope this doesn’t feel like too ‘silly’ of a...   \n",
       "5   It was the day I broke down and almost ruined ...   \n",
       "6   Based on your parameters this was part of the ...   \n",
       "7   This is the date that everything closed down. ...   \n",
       "8   Attended my first public gathering in protest....   \n",
       "9                        My mother in law passed away   \n",
       "10  So, on this data, I received notification that...   \n",
       "11  It was the last time we got together with abou...   \n",
       "12  On May 29th 2020 I put down my dog who had bee...   \n",
       "13  It was the day that the NJ statewide curfew be...   \n",
       "\n",
       "                                      3Wrds ColorHex  \\\n",
       "0                 Fun, overwhelming, tiring     NONE   \n",
       "1                  Chinese, friendly, funny  #CC0000   \n",
       "2             disbelief, confusion, concern  #660000   \n",
       "3                    Angry, Sunken, bitter   #330066   \n",
       "4   Exhilarating, overindulgent, inspiring   #CC0000   \n",
       "5              stressful, upset, hysterical  #FF3300   \n",
       "6                     Relief, pain, anxious  #FF0099   \n",
       "7                  Scared, surreal, worried  #000066   \n",
       "8           enlightening, freeing, powerful  #CC0000   \n",
       "9                scared, panicked, confused  #FF6666   \n",
       "10               Anxious, Unnerved, Fearful  #0066FF   \n",
       "11                      Happy, fun, unaware  #00CCCC   \n",
       "12                       Empty, grim, fake.  #999999   \n",
       "13                fearful, anxious, worried  #000000   \n",
       "\n",
       "                                             ColorRes  MemCScore  MemPScore  \\\n",
       "0                                                NONE     0.5562      0.072   \n",
       "1     Red is the official color of Chinese New Year:)     0.8772      0.077   \n",
       "2               Red reminds me of school, and concern     0.0000      0.000   \n",
       "3                        It feels like a somber color    -0.8834      0.066   \n",
       "4   The concert design largely used this color, so...     0.9354      0.107   \n",
       "5   There were high tensions, but no rage, which I...    -0.8951      0.080   \n",
       "6        Bold color but pleasing, slightly unsettling    -0.2714      0.000   \n",
       "7   Blue to me is a nervous, cold, anxious color. ...    -0.6453      0.000   \n",
       "8   I think it was mostly due to the colors I saw ...     0.9274      0.174   \n",
       "9   It is like a fading red color. There is still ...     0.0000      0.000   \n",
       "10  It reminds me of Twitter blue. I remember endl...    -0.1531      0.020   \n",
       "11  It's joyful but has some grey tones in it so n...     0.2617      0.054   \n",
       "12  I can’t remember at this point what the weathe...     0.8512      0.115   \n",
       "13  Absolute darkness provokes high levels of fear...     0.4404      0.098   \n",
       "\n",
       "    MemNScore  3WCScore  3WPScore  3WNScore  ColCScore  ColPScore  ColNScore  \n",
       "0       0.000    0.5106     0.623     0.000     0.0000      0.000      0.000  \n",
       "1       0.049    0.7269     0.859     0.000     0.0000      0.000      0.000  \n",
       "2       0.000   -0.2960     0.000     0.524     0.0000      0.000      0.000  \n",
       "3       0.176   -0.7269     0.000     0.859    -0.0772      0.301      0.337  \n",
       "4       0.051    0.6705     0.846     0.000     0.0000      0.000      0.000  \n",
       "5       0.161   -0.7184     0.000     1.000    -0.9618      0.087      0.507  \n",
       "6       0.027   -0.2960     0.369     0.631     0.7506      0.615      0.000  \n",
       "7       0.109   -0.6249     0.000     0.836     0.1761      0.151      0.160  \n",
       "8       0.053    0.8481     1.000     0.000     0.0000      0.000      0.000  \n",
       "9       0.000   -0.8020     0.000     1.000    -0.8945      0.142      0.376  \n",
       "10      0.024   -0.6369     0.000     0.839    -0.4019      0.000      0.091  \n",
       "11      0.000    0.7351     0.795     0.205    -0.1362      0.220      0.193  \n",
       "12      0.067   -0.8225     0.000     1.000     0.1901      0.089      0.000  \n",
       "13      0.000   -0.7506     0.000     1.000    -0.8658      0.000      0.416  "
      ],
      "text/html": "<div>\n<style scoped>\n    .dataframe tbody tr th:only-of-type {\n        vertical-align: middle;\n    }\n\n    .dataframe tbody tr th {\n        vertical-align: top;\n    }\n\n    .dataframe thead th {\n        text-align: right;\n    }\n</style>\n<table border=\"1\" class=\"dataframe\">\n  <thead>\n    <tr style=\"text-align: right;\">\n      <th></th>\n      <th>Mem</th>\n      <th>3Wrds</th>\n      <th>ColorHex</th>\n      <th>ColorRes</th>\n      <th>MemCScore</th>\n      <th>MemPScore</th>\n      <th>MemNScore</th>\n      <th>3WCScore</th>\n      <th>3WPScore</th>\n      <th>3WNScore</th>\n      <th>ColCScore</th>\n      <th>ColPScore</th>\n      <th>ColNScore</th>\n    </tr>\n  </thead>\n  <tbody>\n    <tr>\n      <th>0</th>\n      <td>I recall having a team meeting at work with lo...</td>\n      <td>Fun, overwhelming, tiring</td>\n      <td>NONE</td>\n      <td>NONE</td>\n      <td>0.5562</td>\n      <td>0.072</td>\n      <td>0.000</td>\n      <td>0.5106</td>\n      <td>0.623</td>\n      <td>0.000</td>\n      <td>0.0000</td>\n      <td>0.000</td>\n      <td>0.000</td>\n    </tr>\n    <tr>\n      <th>1</th>\n      <td>A lot of things came to my mind. It was hard t...</td>\n      <td>Chinese, friendly, funny</td>\n      <td>#CC0000</td>\n      <td>Red is the official color of Chinese New Year:)</td>\n      <td>0.8772</td>\n      <td>0.077</td>\n      <td>0.049</td>\n      <td>0.7269</td>\n      <td>0.859</td>\n      <td>0.000</td>\n      <td>0.0000</td>\n      <td>0.000</td>\n      <td>0.000</td>\n    </tr>\n    <tr>\n      <th>2</th>\n      <td>It was the day that I learned that public scho...</td>\n      <td>disbelief, confusion, concern</td>\n      <td>#660000</td>\n      <td>Red reminds me of school, and concern</td>\n      <td>0.0000</td>\n      <td>0.000</td>\n      <td>0.000</td>\n      <td>-0.2960</td>\n      <td>0.000</td>\n      <td>0.524</td>\n      <td>0.0000</td>\n      <td>0.000</td>\n      <td>0.000</td>\n    </tr>\n    <tr>\n      <th>3</th>\n      <td>My Grandmother passed away and we couldn’t gri...</td>\n      <td>Angry, Sunken, bitter</td>\n      <td>#330066</td>\n      <td>It feels like a somber color</td>\n      <td>-0.8834</td>\n      <td>0.066</td>\n      <td>0.176</td>\n      <td>-0.7269</td>\n      <td>0.000</td>\n      <td>0.859</td>\n      <td>-0.0772</td>\n      <td>0.301</td>\n      <td>0.337</td>\n    </tr>\n    <tr>\n      <th>4</th>\n      <td>I hope this doesn’t feel like too ‘silly’ of a...</td>\n      <td>Exhilarating, overindulgent, inspiring</td>\n      <td>#CC0000</td>\n      <td>The concert design largely used this color, so...</td>\n      <td>0.9354</td>\n      <td>0.107</td>\n      <td>0.051</td>\n      <td>0.6705</td>\n      <td>0.846</td>\n      <td>0.000</td>\n      <td>0.0000</td>\n      <td>0.000</td>\n      <td>0.000</td>\n    </tr>\n    <tr>\n      <th>5</th>\n      <td>It was the day I broke down and almost ruined ...</td>\n      <td>stressful, upset, hysterical</td>\n      <td>#FF3300</td>\n      <td>There were high tensions, but no rage, which I...</td>\n      <td>-0.8951</td>\n      <td>0.080</td>\n      <td>0.161</td>\n      <td>-0.7184</td>\n      <td>0.000</td>\n      <td>1.000</td>\n      <td>-0.9618</td>\n      <td>0.087</td>\n      <td>0.507</td>\n    </tr>\n    <tr>\n      <th>6</th>\n      <td>Based on your parameters this was part of the ...</td>\n      <td>Relief, pain, anxious</td>\n      <td>#FF0099</td>\n      <td>Bold color but pleasing, slightly unsettling</td>\n      <td>-0.2714</td>\n      <td>0.000</td>\n      <td>0.027</td>\n      <td>-0.2960</td>\n      <td>0.369</td>\n      <td>0.631</td>\n      <td>0.7506</td>\n      <td>0.615</td>\n      <td>0.000</td>\n    </tr>\n    <tr>\n      <th>7</th>\n      <td>This is the date that everything closed down. ...</td>\n      <td>Scared, surreal, worried</td>\n      <td>#000066</td>\n      <td>Blue to me is a nervous, cold, anxious color. ...</td>\n      <td>-0.6453</td>\n      <td>0.000</td>\n      <td>0.109</td>\n      <td>-0.6249</td>\n      <td>0.000</td>\n      <td>0.836</td>\n      <td>0.1761</td>\n      <td>0.151</td>\n      <td>0.160</td>\n    </tr>\n    <tr>\n      <th>8</th>\n      <td>Attended my first public gathering in protest....</td>\n      <td>enlightening, freeing, powerful</td>\n      <td>#CC0000</td>\n      <td>I think it was mostly due to the colors I saw ...</td>\n      <td>0.9274</td>\n      <td>0.174</td>\n      <td>0.053</td>\n      <td>0.8481</td>\n      <td>1.000</td>\n      <td>0.000</td>\n      <td>0.0000</td>\n      <td>0.000</td>\n      <td>0.000</td>\n    </tr>\n    <tr>\n      <th>9</th>\n      <td>My mother in law passed away</td>\n      <td>scared, panicked, confused</td>\n      <td>#FF6666</td>\n      <td>It is like a fading red color. There is still ...</td>\n      <td>0.0000</td>\n      <td>0.000</td>\n      <td>0.000</td>\n      <td>-0.8020</td>\n      <td>0.000</td>\n      <td>1.000</td>\n      <td>-0.8945</td>\n      <td>0.142</td>\n      <td>0.376</td>\n    </tr>\n    <tr>\n      <th>10</th>\n      <td>So, on this data, I received notification that...</td>\n      <td>Anxious, Unnerved, Fearful</td>\n      <td>#0066FF</td>\n      <td>It reminds me of Twitter blue. I remember endl...</td>\n      <td>-0.1531</td>\n      <td>0.020</td>\n      <td>0.024</td>\n      <td>-0.6369</td>\n      <td>0.000</td>\n      <td>0.839</td>\n      <td>-0.4019</td>\n      <td>0.000</td>\n      <td>0.091</td>\n    </tr>\n    <tr>\n      <th>11</th>\n      <td>It was the last time we got together with abou...</td>\n      <td>Happy, fun, unaware</td>\n      <td>#00CCCC</td>\n      <td>It's joyful but has some grey tones in it so n...</td>\n      <td>0.2617</td>\n      <td>0.054</td>\n      <td>0.000</td>\n      <td>0.7351</td>\n      <td>0.795</td>\n      <td>0.205</td>\n      <td>-0.1362</td>\n      <td>0.220</td>\n      <td>0.193</td>\n    </tr>\n    <tr>\n      <th>12</th>\n      <td>On May 29th 2020 I put down my dog who had bee...</td>\n      <td>Empty, grim, fake.</td>\n      <td>#999999</td>\n      <td>I can’t remember at this point what the weathe...</td>\n      <td>0.8512</td>\n      <td>0.115</td>\n      <td>0.067</td>\n      <td>-0.8225</td>\n      <td>0.000</td>\n      <td>1.000</td>\n      <td>0.1901</td>\n      <td>0.089</td>\n      <td>0.000</td>\n    </tr>\n    <tr>\n      <th>13</th>\n      <td>It was the day that the NJ statewide curfew be...</td>\n      <td>fearful, anxious, worried</td>\n      <td>#000000</td>\n      <td>Absolute darkness provokes high levels of fear...</td>\n      <td>0.4404</td>\n      <td>0.098</td>\n      <td>0.000</td>\n      <td>-0.7506</td>\n      <td>0.000</td>\n      <td>1.000</td>\n      <td>-0.8658</td>\n      <td>0.000</td>\n      <td>0.416</td>\n    </tr>\n  </tbody>\n</table>\n</div>"
     },
     "metadata": {},
     "execution_count": 49
    }
   ],
   "source": [
    "df_memcorpus['ColCScore'] = score_com\n",
    "df_memcorpus['ColPScore'] = score_pos\n",
    "df_memcorpus['ColNScore'] = score_neg\n",
    "df_memcorpus"
   ]
  },
  {
   "cell_type": "code",
   "execution_count": 50,
   "metadata": {},
   "outputs": [
    {
     "output_type": "execute_result",
     "data": {
      "text/plain": [
       "['Mem',\n",
       " '3Wrds',\n",
       " 'ColorHex',\n",
       " 'ColorRes',\n",
       " 'MemCScore',\n",
       " 'MemPScore',\n",
       " 'MemNScore',\n",
       " '3WCScore',\n",
       " '3WPScore',\n",
       " '3WNScore',\n",
       " 'ColCScore',\n",
       " 'ColPScore',\n",
       " 'ColNScore']"
      ]
     },
     "metadata": {},
     "execution_count": 50
    }
   ],
   "source": [
    "# rearrange columns\n",
    "cols = list(df_memcorpus.columns)\n",
    "cols"
   ]
  },
  {
   "cell_type": "code",
   "execution_count": 51,
   "metadata": {},
   "outputs": [
    {
     "output_type": "execute_result",
     "data": {
      "text/plain": [
       "['Mem',\n",
       " 'MemCScore',\n",
       " 'MemPScore',\n",
       " 'MemNScore',\n",
       " '3Wrds',\n",
       " 'ColorHex',\n",
       " 'ColorRes',\n",
       " '3WCScore',\n",
       " '3WPScore',\n",
       " '3WNScore',\n",
       " 'ColCScore',\n",
       " 'ColPScore',\n",
       " 'ColNScore']"
      ]
     },
     "metadata": {},
     "execution_count": 51
    }
   ],
   "source": [
    "cols[1], cols[2], cols[3],cols[4], cols[5], cols[6] = cols[4], cols[5], cols[6], cols[1], cols[2], cols[3]\n",
    "cols"
   ]
  },
  {
   "cell_type": "code",
   "execution_count": 52,
   "metadata": {},
   "outputs": [
    {
     "output_type": "execute_result",
     "data": {
      "text/plain": [
       "['Mem',\n",
       " 'MemCScore',\n",
       " 'MemPScore',\n",
       " 'MemNScore',\n",
       " '3Wrds',\n",
       " '3WCScore',\n",
       " '3WPScore',\n",
       " '3WNScore',\n",
       " 'ColorHex',\n",
       " 'ColorRes',\n",
       " 'ColCScore',\n",
       " 'ColPScore',\n",
       " 'ColNScore']"
      ]
     },
     "metadata": {},
     "execution_count": 52
    }
   ],
   "source": [
    "cols[5],cols[6], cols[7], cols[8], cols[9] = cols[7], cols[8], cols[9],cols[5], cols[6]\n",
    "cols"
   ]
  },
  {
   "cell_type": "code",
   "execution_count": 53,
   "metadata": {},
   "outputs": [
    {
     "output_type": "execute_result",
     "data": {
      "text/plain": [
       "                                                  Mem  MemCScore  MemPScore  \\\n",
       "0   I recall having a team meeting at work with lo...     0.5562      0.072   \n",
       "1   A lot of things came to my mind. It was hard t...     0.8772      0.077   \n",
       "2   It was the day that I learned that public scho...     0.0000      0.000   \n",
       "3   My Grandmother passed away and we couldn’t gri...    -0.8834      0.066   \n",
       "4   I hope this doesn’t feel like too ‘silly’ of a...     0.9354      0.107   \n",
       "5   It was the day I broke down and almost ruined ...    -0.8951      0.080   \n",
       "6   Based on your parameters this was part of the ...    -0.2714      0.000   \n",
       "7   This is the date that everything closed down. ...    -0.6453      0.000   \n",
       "8   Attended my first public gathering in protest....     0.9274      0.174   \n",
       "9                        My mother in law passed away     0.0000      0.000   \n",
       "10  So, on this data, I received notification that...    -0.1531      0.020   \n",
       "11  It was the last time we got together with abou...     0.2617      0.054   \n",
       "12  On May 29th 2020 I put down my dog who had bee...     0.8512      0.115   \n",
       "13  It was the day that the NJ statewide curfew be...     0.4404      0.098   \n",
       "\n",
       "    MemNScore                                    3Wrds  3WCScore  3WPScore  \\\n",
       "0       0.000                Fun, overwhelming, tiring    0.5106     0.623   \n",
       "1       0.049                 Chinese, friendly, funny    0.7269     0.859   \n",
       "2       0.000            disbelief, confusion, concern   -0.2960     0.000   \n",
       "3       0.176                   Angry, Sunken, bitter    -0.7269     0.000   \n",
       "4       0.051  Exhilarating, overindulgent, inspiring     0.6705     0.846   \n",
       "5       0.161             stressful, upset, hysterical   -0.7184     0.000   \n",
       "6       0.027                    Relief, pain, anxious   -0.2960     0.369   \n",
       "7       0.109                 Scared, surreal, worried   -0.6249     0.000   \n",
       "8       0.053          enlightening, freeing, powerful    0.8481     1.000   \n",
       "9       0.000               scared, panicked, confused   -0.8020     0.000   \n",
       "10      0.024               Anxious, Unnerved, Fearful   -0.6369     0.000   \n",
       "11      0.000                      Happy, fun, unaware    0.7351     0.795   \n",
       "12      0.067                       Empty, grim, fake.   -0.8225     0.000   \n",
       "13      0.000                fearful, anxious, worried   -0.7506     0.000   \n",
       "\n",
       "    3WNScore ColorHex                                           ColorRes  \\\n",
       "0      0.000     NONE                                               NONE   \n",
       "1      0.000  #CC0000    Red is the official color of Chinese New Year:)   \n",
       "2      0.524  #660000              Red reminds me of school, and concern   \n",
       "3      0.859  #330066                       It feels like a somber color   \n",
       "4      0.000  #CC0000  The concert design largely used this color, so...   \n",
       "5      1.000  #FF3300  There were high tensions, but no rage, which I...   \n",
       "6      0.631  #FF0099       Bold color but pleasing, slightly unsettling   \n",
       "7      0.836  #000066  Blue to me is a nervous, cold, anxious color. ...   \n",
       "8      0.000  #CC0000  I think it was mostly due to the colors I saw ...   \n",
       "9      1.000  #FF6666  It is like a fading red color. There is still ...   \n",
       "10     0.839  #0066FF  It reminds me of Twitter blue. I remember endl...   \n",
       "11     0.205  #00CCCC  It's joyful but has some grey tones in it so n...   \n",
       "12     1.000  #999999  I can’t remember at this point what the weathe...   \n",
       "13     1.000  #000000  Absolute darkness provokes high levels of fear...   \n",
       "\n",
       "    ColCScore  ColPScore  ColNScore  \n",
       "0      0.0000      0.000      0.000  \n",
       "1      0.0000      0.000      0.000  \n",
       "2      0.0000      0.000      0.000  \n",
       "3     -0.0772      0.301      0.337  \n",
       "4      0.0000      0.000      0.000  \n",
       "5     -0.9618      0.087      0.507  \n",
       "6      0.7506      0.615      0.000  \n",
       "7      0.1761      0.151      0.160  \n",
       "8      0.0000      0.000      0.000  \n",
       "9     -0.8945      0.142      0.376  \n",
       "10    -0.4019      0.000      0.091  \n",
       "11    -0.1362      0.220      0.193  \n",
       "12     0.1901      0.089      0.000  \n",
       "13    -0.8658      0.000      0.416  "
      ],
      "text/html": "<div>\n<style scoped>\n    .dataframe tbody tr th:only-of-type {\n        vertical-align: middle;\n    }\n\n    .dataframe tbody tr th {\n        vertical-align: top;\n    }\n\n    .dataframe thead th {\n        text-align: right;\n    }\n</style>\n<table border=\"1\" class=\"dataframe\">\n  <thead>\n    <tr style=\"text-align: right;\">\n      <th></th>\n      <th>Mem</th>\n      <th>MemCScore</th>\n      <th>MemPScore</th>\n      <th>MemNScore</th>\n      <th>3Wrds</th>\n      <th>3WCScore</th>\n      <th>3WPScore</th>\n      <th>3WNScore</th>\n      <th>ColorHex</th>\n      <th>ColorRes</th>\n      <th>ColCScore</th>\n      <th>ColPScore</th>\n      <th>ColNScore</th>\n    </tr>\n  </thead>\n  <tbody>\n    <tr>\n      <th>0</th>\n      <td>I recall having a team meeting at work with lo...</td>\n      <td>0.5562</td>\n      <td>0.072</td>\n      <td>0.000</td>\n      <td>Fun, overwhelming, tiring</td>\n      <td>0.5106</td>\n      <td>0.623</td>\n      <td>0.000</td>\n      <td>NONE</td>\n      <td>NONE</td>\n      <td>0.0000</td>\n      <td>0.000</td>\n      <td>0.000</td>\n    </tr>\n    <tr>\n      <th>1</th>\n      <td>A lot of things came to my mind. It was hard t...</td>\n      <td>0.8772</td>\n      <td>0.077</td>\n      <td>0.049</td>\n      <td>Chinese, friendly, funny</td>\n      <td>0.7269</td>\n      <td>0.859</td>\n      <td>0.000</td>\n      <td>#CC0000</td>\n      <td>Red is the official color of Chinese New Year:)</td>\n      <td>0.0000</td>\n      <td>0.000</td>\n      <td>0.000</td>\n    </tr>\n    <tr>\n      <th>2</th>\n      <td>It was the day that I learned that public scho...</td>\n      <td>0.0000</td>\n      <td>0.000</td>\n      <td>0.000</td>\n      <td>disbelief, confusion, concern</td>\n      <td>-0.2960</td>\n      <td>0.000</td>\n      <td>0.524</td>\n      <td>#660000</td>\n      <td>Red reminds me of school, and concern</td>\n      <td>0.0000</td>\n      <td>0.000</td>\n      <td>0.000</td>\n    </tr>\n    <tr>\n      <th>3</th>\n      <td>My Grandmother passed away and we couldn’t gri...</td>\n      <td>-0.8834</td>\n      <td>0.066</td>\n      <td>0.176</td>\n      <td>Angry, Sunken, bitter</td>\n      <td>-0.7269</td>\n      <td>0.000</td>\n      <td>0.859</td>\n      <td>#330066</td>\n      <td>It feels like a somber color</td>\n      <td>-0.0772</td>\n      <td>0.301</td>\n      <td>0.337</td>\n    </tr>\n    <tr>\n      <th>4</th>\n      <td>I hope this doesn’t feel like too ‘silly’ of a...</td>\n      <td>0.9354</td>\n      <td>0.107</td>\n      <td>0.051</td>\n      <td>Exhilarating, overindulgent, inspiring</td>\n      <td>0.6705</td>\n      <td>0.846</td>\n      <td>0.000</td>\n      <td>#CC0000</td>\n      <td>The concert design largely used this color, so...</td>\n      <td>0.0000</td>\n      <td>0.000</td>\n      <td>0.000</td>\n    </tr>\n    <tr>\n      <th>5</th>\n      <td>It was the day I broke down and almost ruined ...</td>\n      <td>-0.8951</td>\n      <td>0.080</td>\n      <td>0.161</td>\n      <td>stressful, upset, hysterical</td>\n      <td>-0.7184</td>\n      <td>0.000</td>\n      <td>1.000</td>\n      <td>#FF3300</td>\n      <td>There were high tensions, but no rage, which I...</td>\n      <td>-0.9618</td>\n      <td>0.087</td>\n      <td>0.507</td>\n    </tr>\n    <tr>\n      <th>6</th>\n      <td>Based on your parameters this was part of the ...</td>\n      <td>-0.2714</td>\n      <td>0.000</td>\n      <td>0.027</td>\n      <td>Relief, pain, anxious</td>\n      <td>-0.2960</td>\n      <td>0.369</td>\n      <td>0.631</td>\n      <td>#FF0099</td>\n      <td>Bold color but pleasing, slightly unsettling</td>\n      <td>0.7506</td>\n      <td>0.615</td>\n      <td>0.000</td>\n    </tr>\n    <tr>\n      <th>7</th>\n      <td>This is the date that everything closed down. ...</td>\n      <td>-0.6453</td>\n      <td>0.000</td>\n      <td>0.109</td>\n      <td>Scared, surreal, worried</td>\n      <td>-0.6249</td>\n      <td>0.000</td>\n      <td>0.836</td>\n      <td>#000066</td>\n      <td>Blue to me is a nervous, cold, anxious color. ...</td>\n      <td>0.1761</td>\n      <td>0.151</td>\n      <td>0.160</td>\n    </tr>\n    <tr>\n      <th>8</th>\n      <td>Attended my first public gathering in protest....</td>\n      <td>0.9274</td>\n      <td>0.174</td>\n      <td>0.053</td>\n      <td>enlightening, freeing, powerful</td>\n      <td>0.8481</td>\n      <td>1.000</td>\n      <td>0.000</td>\n      <td>#CC0000</td>\n      <td>I think it was mostly due to the colors I saw ...</td>\n      <td>0.0000</td>\n      <td>0.000</td>\n      <td>0.000</td>\n    </tr>\n    <tr>\n      <th>9</th>\n      <td>My mother in law passed away</td>\n      <td>0.0000</td>\n      <td>0.000</td>\n      <td>0.000</td>\n      <td>scared, panicked, confused</td>\n      <td>-0.8020</td>\n      <td>0.000</td>\n      <td>1.000</td>\n      <td>#FF6666</td>\n      <td>It is like a fading red color. There is still ...</td>\n      <td>-0.8945</td>\n      <td>0.142</td>\n      <td>0.376</td>\n    </tr>\n    <tr>\n      <th>10</th>\n      <td>So, on this data, I received notification that...</td>\n      <td>-0.1531</td>\n      <td>0.020</td>\n      <td>0.024</td>\n      <td>Anxious, Unnerved, Fearful</td>\n      <td>-0.6369</td>\n      <td>0.000</td>\n      <td>0.839</td>\n      <td>#0066FF</td>\n      <td>It reminds me of Twitter blue. I remember endl...</td>\n      <td>-0.4019</td>\n      <td>0.000</td>\n      <td>0.091</td>\n    </tr>\n    <tr>\n      <th>11</th>\n      <td>It was the last time we got together with abou...</td>\n      <td>0.2617</td>\n      <td>0.054</td>\n      <td>0.000</td>\n      <td>Happy, fun, unaware</td>\n      <td>0.7351</td>\n      <td>0.795</td>\n      <td>0.205</td>\n      <td>#00CCCC</td>\n      <td>It's joyful but has some grey tones in it so n...</td>\n      <td>-0.1362</td>\n      <td>0.220</td>\n      <td>0.193</td>\n    </tr>\n    <tr>\n      <th>12</th>\n      <td>On May 29th 2020 I put down my dog who had bee...</td>\n      <td>0.8512</td>\n      <td>0.115</td>\n      <td>0.067</td>\n      <td>Empty, grim, fake.</td>\n      <td>-0.8225</td>\n      <td>0.000</td>\n      <td>1.000</td>\n      <td>#999999</td>\n      <td>I can’t remember at this point what the weathe...</td>\n      <td>0.1901</td>\n      <td>0.089</td>\n      <td>0.000</td>\n    </tr>\n    <tr>\n      <th>13</th>\n      <td>It was the day that the NJ statewide curfew be...</td>\n      <td>0.4404</td>\n      <td>0.098</td>\n      <td>0.000</td>\n      <td>fearful, anxious, worried</td>\n      <td>-0.7506</td>\n      <td>0.000</td>\n      <td>1.000</td>\n      <td>#000000</td>\n      <td>Absolute darkness provokes high levels of fear...</td>\n      <td>-0.8658</td>\n      <td>0.000</td>\n      <td>0.416</td>\n    </tr>\n  </tbody>\n</table>\n</div>"
     },
     "metadata": {},
     "execution_count": 53
    }
   ],
   "source": [
    "# reattach list\n",
    "df_memcorpus = df_memcorpus[cols]\n",
    "df_memcorpus"
   ]
  },
  {
   "cell_type": "code",
   "execution_count": 55,
   "metadata": {},
   "outputs": [
    {
     "output_type": "execute_result",
     "data": {
      "text/plain": [
       "                                                  Mem  MemCScore  MemPScore  \\\n",
       "0   I recall having a team meeting at work with lo...     0.5562      0.072   \n",
       "1   A lot of things came to my mind. It was hard t...     0.8772      0.077   \n",
       "2   It was the day that I learned that public scho...     0.0000      0.000   \n",
       "3   My Grandmother passed away and we couldn’t gri...    -0.8834      0.066   \n",
       "4   I hope this doesn’t feel like too ‘silly’ of a...     0.9354      0.107   \n",
       "5   It was the day I broke down and almost ruined ...    -0.8951      0.080   \n",
       "6   Based on your parameters this was part of the ...    -0.2714      0.000   \n",
       "7   This is the date that everything closed down. ...    -0.6453      0.000   \n",
       "8   Attended my first public gathering in protest....     0.9274      0.174   \n",
       "9                        My mother in law passed away     0.0000      0.000   \n",
       "10  So, on this data, I received notification that...    -0.1531      0.020   \n",
       "11  It was the last time we got together with abou...     0.2617      0.054   \n",
       "12  On May 29th 2020 I put down my dog who had bee...     0.8512      0.115   \n",
       "13  It was the day that the NJ statewide curfew be...     0.4404      0.098   \n",
       "\n",
       "    MemNScore                                    3Wrds  3WCScore  3WPScore  \\\n",
       "0       0.000                Fun, overwhelming, tiring    0.5106     0.623   \n",
       "1       0.049                 Chinese, friendly, funny    0.7269     0.859   \n",
       "2       0.000            disbelief, confusion, concern   -0.2960     0.000   \n",
       "3       0.176                   Angry, Sunken, bitter    -0.7269     0.000   \n",
       "4       0.051  Exhilarating, overindulgent, inspiring     0.6705     0.846   \n",
       "5       0.161             stressful, upset, hysterical   -0.7184     0.000   \n",
       "6       0.027                    Relief, pain, anxious   -0.2960     0.369   \n",
       "7       0.109                 Scared, surreal, worried   -0.6249     0.000   \n",
       "8       0.053          enlightening, freeing, powerful    0.8481     1.000   \n",
       "9       0.000               scared, panicked, confused   -0.8020     0.000   \n",
       "10      0.024               Anxious, Unnerved, Fearful   -0.6369     0.000   \n",
       "11      0.000                      Happy, fun, unaware    0.7351     0.795   \n",
       "12      0.067                       Empty, grim, fake.   -0.8225     0.000   \n",
       "13      0.000                fearful, anxious, worried   -0.7506     0.000   \n",
       "\n",
       "    3WNScore ColorHex                                           ColorRes  \\\n",
       "0      0.000     NONE                                               NONE   \n",
       "1      0.000  #CC0000    Red is the official color of Chinese New Year:)   \n",
       "2      0.524  #660000              Red reminds me of school, and concern   \n",
       "3      0.859  #330066                       It feels like a somber color   \n",
       "4      0.000  #CC0000  The concert design largely used this color, so...   \n",
       "5      1.000  #FF3300  There were high tensions, but no rage, which I...   \n",
       "6      0.631  #FF0099       Bold color but pleasing, slightly unsettling   \n",
       "7      0.836  #000066  Blue to me is a nervous, cold, anxious color. ...   \n",
       "8      0.000  #CC0000  I think it was mostly due to the colors I saw ...   \n",
       "9      1.000  #FF6666  It is like a fading red color. There is still ...   \n",
       "10     0.839  #0066FF  It reminds me of Twitter blue. I remember endl...   \n",
       "11     0.205  #00CCCC  It's joyful but has some grey tones in it so n...   \n",
       "12     1.000  #999999  I can’t remember at this point what the weathe...   \n",
       "13     1.000  #000000  Absolute darkness provokes high levels of fear...   \n",
       "\n",
       "    ColCScore  ColPScore  ColNScore  Mem3CScore  \n",
       "0      0.0000      0.000      0.000     0.53340  \n",
       "1      0.0000      0.000      0.000     0.80205  \n",
       "2      0.0000      0.000      0.000    -0.14800  \n",
       "3     -0.0772      0.301      0.337    -0.80515  \n",
       "4      0.0000      0.000      0.000     0.80295  \n",
       "5     -0.9618      0.087      0.507    -0.80675  \n",
       "6      0.7506      0.615      0.000    -0.28370  \n",
       "7      0.1761      0.151      0.160    -0.63510  \n",
       "8      0.0000      0.000      0.000     0.88775  \n",
       "9     -0.8945      0.142      0.376    -0.40100  \n",
       "10    -0.4019      0.000      0.091    -0.39500  \n",
       "11    -0.1362      0.220      0.193     0.49840  \n",
       "12     0.1901      0.089      0.000     0.01435  \n",
       "13    -0.8658      0.000      0.416    -0.15510  "
      ],
      "text/html": "<div>\n<style scoped>\n    .dataframe tbody tr th:only-of-type {\n        vertical-align: middle;\n    }\n\n    .dataframe tbody tr th {\n        vertical-align: top;\n    }\n\n    .dataframe thead th {\n        text-align: right;\n    }\n</style>\n<table border=\"1\" class=\"dataframe\">\n  <thead>\n    <tr style=\"text-align: right;\">\n      <th></th>\n      <th>Mem</th>\n      <th>MemCScore</th>\n      <th>MemPScore</th>\n      <th>MemNScore</th>\n      <th>3Wrds</th>\n      <th>3WCScore</th>\n      <th>3WPScore</th>\n      <th>3WNScore</th>\n      <th>ColorHex</th>\n      <th>ColorRes</th>\n      <th>ColCScore</th>\n      <th>ColPScore</th>\n      <th>ColNScore</th>\n      <th>Mem3CScore</th>\n    </tr>\n  </thead>\n  <tbody>\n    <tr>\n      <th>0</th>\n      <td>I recall having a team meeting at work with lo...</td>\n      <td>0.5562</td>\n      <td>0.072</td>\n      <td>0.000</td>\n      <td>Fun, overwhelming, tiring</td>\n      <td>0.5106</td>\n      <td>0.623</td>\n      <td>0.000</td>\n      <td>NONE</td>\n      <td>NONE</td>\n      <td>0.0000</td>\n      <td>0.000</td>\n      <td>0.000</td>\n      <td>0.53340</td>\n    </tr>\n    <tr>\n      <th>1</th>\n      <td>A lot of things came to my mind. It was hard t...</td>\n      <td>0.8772</td>\n      <td>0.077</td>\n      <td>0.049</td>\n      <td>Chinese, friendly, funny</td>\n      <td>0.7269</td>\n      <td>0.859</td>\n      <td>0.000</td>\n      <td>#CC0000</td>\n      <td>Red is the official color of Chinese New Year:)</td>\n      <td>0.0000</td>\n      <td>0.000</td>\n      <td>0.000</td>\n      <td>0.80205</td>\n    </tr>\n    <tr>\n      <th>2</th>\n      <td>It was the day that I learned that public scho...</td>\n      <td>0.0000</td>\n      <td>0.000</td>\n      <td>0.000</td>\n      <td>disbelief, confusion, concern</td>\n      <td>-0.2960</td>\n      <td>0.000</td>\n      <td>0.524</td>\n      <td>#660000</td>\n      <td>Red reminds me of school, and concern</td>\n      <td>0.0000</td>\n      <td>0.000</td>\n      <td>0.000</td>\n      <td>-0.14800</td>\n    </tr>\n    <tr>\n      <th>3</th>\n      <td>My Grandmother passed away and we couldn’t gri...</td>\n      <td>-0.8834</td>\n      <td>0.066</td>\n      <td>0.176</td>\n      <td>Angry, Sunken, bitter</td>\n      <td>-0.7269</td>\n      <td>0.000</td>\n      <td>0.859</td>\n      <td>#330066</td>\n      <td>It feels like a somber color</td>\n      <td>-0.0772</td>\n      <td>0.301</td>\n      <td>0.337</td>\n      <td>-0.80515</td>\n    </tr>\n    <tr>\n      <th>4</th>\n      <td>I hope this doesn’t feel like too ‘silly’ of a...</td>\n      <td>0.9354</td>\n      <td>0.107</td>\n      <td>0.051</td>\n      <td>Exhilarating, overindulgent, inspiring</td>\n      <td>0.6705</td>\n      <td>0.846</td>\n      <td>0.000</td>\n      <td>#CC0000</td>\n      <td>The concert design largely used this color, so...</td>\n      <td>0.0000</td>\n      <td>0.000</td>\n      <td>0.000</td>\n      <td>0.80295</td>\n    </tr>\n    <tr>\n      <th>5</th>\n      <td>It was the day I broke down and almost ruined ...</td>\n      <td>-0.8951</td>\n      <td>0.080</td>\n      <td>0.161</td>\n      <td>stressful, upset, hysterical</td>\n      <td>-0.7184</td>\n      <td>0.000</td>\n      <td>1.000</td>\n      <td>#FF3300</td>\n      <td>There were high tensions, but no rage, which I...</td>\n      <td>-0.9618</td>\n      <td>0.087</td>\n      <td>0.507</td>\n      <td>-0.80675</td>\n    </tr>\n    <tr>\n      <th>6</th>\n      <td>Based on your parameters this was part of the ...</td>\n      <td>-0.2714</td>\n      <td>0.000</td>\n      <td>0.027</td>\n      <td>Relief, pain, anxious</td>\n      <td>-0.2960</td>\n      <td>0.369</td>\n      <td>0.631</td>\n      <td>#FF0099</td>\n      <td>Bold color but pleasing, slightly unsettling</td>\n      <td>0.7506</td>\n      <td>0.615</td>\n      <td>0.000</td>\n      <td>-0.28370</td>\n    </tr>\n    <tr>\n      <th>7</th>\n      <td>This is the date that everything closed down. ...</td>\n      <td>-0.6453</td>\n      <td>0.000</td>\n      <td>0.109</td>\n      <td>Scared, surreal, worried</td>\n      <td>-0.6249</td>\n      <td>0.000</td>\n      <td>0.836</td>\n      <td>#000066</td>\n      <td>Blue to me is a nervous, cold, anxious color. ...</td>\n      <td>0.1761</td>\n      <td>0.151</td>\n      <td>0.160</td>\n      <td>-0.63510</td>\n    </tr>\n    <tr>\n      <th>8</th>\n      <td>Attended my first public gathering in protest....</td>\n      <td>0.9274</td>\n      <td>0.174</td>\n      <td>0.053</td>\n      <td>enlightening, freeing, powerful</td>\n      <td>0.8481</td>\n      <td>1.000</td>\n      <td>0.000</td>\n      <td>#CC0000</td>\n      <td>I think it was mostly due to the colors I saw ...</td>\n      <td>0.0000</td>\n      <td>0.000</td>\n      <td>0.000</td>\n      <td>0.88775</td>\n    </tr>\n    <tr>\n      <th>9</th>\n      <td>My mother in law passed away</td>\n      <td>0.0000</td>\n      <td>0.000</td>\n      <td>0.000</td>\n      <td>scared, panicked, confused</td>\n      <td>-0.8020</td>\n      <td>0.000</td>\n      <td>1.000</td>\n      <td>#FF6666</td>\n      <td>It is like a fading red color. There is still ...</td>\n      <td>-0.8945</td>\n      <td>0.142</td>\n      <td>0.376</td>\n      <td>-0.40100</td>\n    </tr>\n    <tr>\n      <th>10</th>\n      <td>So, on this data, I received notification that...</td>\n      <td>-0.1531</td>\n      <td>0.020</td>\n      <td>0.024</td>\n      <td>Anxious, Unnerved, Fearful</td>\n      <td>-0.6369</td>\n      <td>0.000</td>\n      <td>0.839</td>\n      <td>#0066FF</td>\n      <td>It reminds me of Twitter blue. I remember endl...</td>\n      <td>-0.4019</td>\n      <td>0.000</td>\n      <td>0.091</td>\n      <td>-0.39500</td>\n    </tr>\n    <tr>\n      <th>11</th>\n      <td>It was the last time we got together with abou...</td>\n      <td>0.2617</td>\n      <td>0.054</td>\n      <td>0.000</td>\n      <td>Happy, fun, unaware</td>\n      <td>0.7351</td>\n      <td>0.795</td>\n      <td>0.205</td>\n      <td>#00CCCC</td>\n      <td>It's joyful but has some grey tones in it so n...</td>\n      <td>-0.1362</td>\n      <td>0.220</td>\n      <td>0.193</td>\n      <td>0.49840</td>\n    </tr>\n    <tr>\n      <th>12</th>\n      <td>On May 29th 2020 I put down my dog who had bee...</td>\n      <td>0.8512</td>\n      <td>0.115</td>\n      <td>0.067</td>\n      <td>Empty, grim, fake.</td>\n      <td>-0.8225</td>\n      <td>0.000</td>\n      <td>1.000</td>\n      <td>#999999</td>\n      <td>I can’t remember at this point what the weathe...</td>\n      <td>0.1901</td>\n      <td>0.089</td>\n      <td>0.000</td>\n      <td>0.01435</td>\n    </tr>\n    <tr>\n      <th>13</th>\n      <td>It was the day that the NJ statewide curfew be...</td>\n      <td>0.4404</td>\n      <td>0.098</td>\n      <td>0.000</td>\n      <td>fearful, anxious, worried</td>\n      <td>-0.7506</td>\n      <td>0.000</td>\n      <td>1.000</td>\n      <td>#000000</td>\n      <td>Absolute darkness provokes high levels of fear...</td>\n      <td>-0.8658</td>\n      <td>0.000</td>\n      <td>0.416</td>\n      <td>-0.15510</td>\n    </tr>\n  </tbody>\n</table>\n</div>"
     },
     "metadata": {},
     "execution_count": 55
    }
   ],
   "source": [
    "# average Memory and 3WRD scores\n",
    "df_memcorpus['Mem3CScore'] = ((df_memcorpus['MemCScore']+df_memcorpus['3WCScore'])/2)\n",
    "df_memcorpus"
   ]
  },
  {
   "cell_type": "code",
   "execution_count": null,
   "metadata": {},
   "outputs": [],
   "source": [
    "df_memcorpus\n",
    "df_covidtext"
   ]
  },
  {
   "cell_type": "code",
   "execution_count": 57,
   "metadata": {},
   "outputs": [
    {
     "output_type": "execute_result",
     "data": {
      "text/plain": [
       "    P    Age     Sex      CDate        CCity            CState  \\\n",
       "0   A  25-40  Female 2020-03-11       Surrey  British Columbia   \n",
       "1   B  25-40  Female 2020-01-24     Brooklyn          New York   \n",
       "2   C  41-55  Female 2020-03-13     Brooklyn          New York   \n",
       "3   D  25-40  Female 2020-03-30      Radford           Virgina   \n",
       "4   E  25-40    Male 2020-03-08       Newark        New Jersey   \n",
       "5   F  25-40  Female 2020-03-16    Charlotte    North Carolina   \n",
       "6   G  25-40     NaN 2020-08-02    Sunnyside          New York   \n",
       "7   H  18-24  Female 2020-03-17  East Meadow          New York   \n",
       "8   I  25-40    Male 2020-05-31  Philadephia      Pennsylvania   \n",
       "9   J  41-55  Female 2020-03-10  Quezon City              None   \n",
       "10  K  25-40  Female 2020-03-11    Fair Lawn        New Jersey   \n",
       "11  L  25-40  Female 2020-03-07     Brooklyn          New York   \n",
       "12  M  25-40  Female 2020-05-29     Brooklyn          New York   \n",
       "13  N  25-40    Male 2020-03-22     Paterson        New Jersey   \n",
       "\n",
       "   Ccountry-iso_alpha                                                Mem  \\\n",
       "0                 CAN  I recall having a team meeting at work with lo...   \n",
       "1                 USA  A lot of things came to my mind. It was hard t...   \n",
       "2                 USA  It was the day that I learned that public scho...   \n",
       "3                 USA  My Grandmother passed away and we couldn’t gri...   \n",
       "4                 USA  I hope this doesn’t feel like too ‘silly’ of a...   \n",
       "5                 USA  It was the day I broke down and almost ruined ...   \n",
       "6                 USA  Based on your parameters this was part of the ...   \n",
       "7                 USA  This is the date that everything closed down. ...   \n",
       "8                 USA  Attended my first public gathering in protest....   \n",
       "9                 PHL                       My mother in law passed away   \n",
       "10                USA  So, on this data, I received notification that...   \n",
       "11                USA  It was the last time we got together with abou...   \n",
       "12                USA  On May 29th 2020 I put down my dog who had bee...   \n",
       "13                USA  It was the day that the NJ statewide curfew be...   \n",
       "\n",
       "                                      3Wrds                       ColorB  ...  \\\n",
       "0                 Fun, overwhelming, tiring  I have no color deficiency.  ...   \n",
       "1                  Chinese, friendly, funny  I have no color deficiency.  ...   \n",
       "2             disbelief, confusion, concern  I have no color deficiency.  ...   \n",
       "3                    Angry, Sunken, bitter   I have no color deficiency.  ...   \n",
       "4   Exhilarating, overindulgent, inspiring   I have no color deficiency.  ...   \n",
       "5              stressful, upset, hysterical  I have no color deficiency.  ...   \n",
       "6                     Relief, pain, anxious  I have no color deficiency.  ...   \n",
       "7                  Scared, surreal, worried  I have no color deficiency.  ...   \n",
       "8           enlightening, freeing, powerful  I have no color deficiency.  ...   \n",
       "9                scared, panicked, confused  I have no color deficiency.  ...   \n",
       "10               Anxious, Unnerved, Fearful  I have no color deficiency.  ...   \n",
       "11                      Happy, fun, unaware  I have no color deficiency.  ...   \n",
       "12                       Empty, grim, fake.  I have no color deficiency.  ...   \n",
       "13                fearful, anxious, worried  I have no color deficiency.  ...   \n",
       "\n",
       "   MemCScore MemPScore  MemNScore 3WCScore  3WPScore  3WNScore  ColCScore  \\\n",
       "0     0.5562     0.072      0.000   0.5106     0.623     0.000     0.0000   \n",
       "1     0.8772     0.077      0.049   0.7269     0.859     0.000     0.0000   \n",
       "2     0.0000     0.000      0.000  -0.2960     0.000     0.524     0.0000   \n",
       "3    -0.8834     0.066      0.176  -0.7269     0.000     0.859    -0.0772   \n",
       "4     0.9354     0.107      0.051   0.6705     0.846     0.000     0.0000   \n",
       "5    -0.8951     0.080      0.161  -0.7184     0.000     1.000    -0.9618   \n",
       "6    -0.2714     0.000      0.027  -0.2960     0.369     0.631     0.7506   \n",
       "7    -0.6453     0.000      0.109  -0.6249     0.000     0.836     0.1761   \n",
       "8     0.9274     0.174      0.053   0.8481     1.000     0.000     0.0000   \n",
       "9     0.0000     0.000      0.000  -0.8020     0.000     1.000    -0.8945   \n",
       "10   -0.1531     0.020      0.024  -0.6369     0.000     0.839    -0.4019   \n",
       "11    0.2617     0.054      0.000   0.7351     0.795     0.205    -0.1362   \n",
       "12    0.8512     0.115      0.067  -0.8225     0.000     1.000     0.1901   \n",
       "13    0.4404     0.098      0.000  -0.7506     0.000     1.000    -0.8658   \n",
       "\n",
       "    ColPScore  ColNScore  Mem3CScore  \n",
       "0       0.000      0.000     0.53340  \n",
       "1       0.000      0.000     0.80205  \n",
       "2       0.000      0.000    -0.14800  \n",
       "3       0.301      0.337    -0.80515  \n",
       "4       0.000      0.000     0.80295  \n",
       "5       0.087      0.507    -0.80675  \n",
       "6       0.615      0.000    -0.28370  \n",
       "7       0.151      0.160    -0.63510  \n",
       "8       0.000      0.000     0.88775  \n",
       "9       0.142      0.376    -0.40100  \n",
       "10      0.000      0.091    -0.39500  \n",
       "11      0.220      0.193     0.49840  \n",
       "12      0.089      0.000     0.01435  \n",
       "13      0.000      0.416    -0.15510  \n",
       "\n",
       "[14 rows x 25 columns]"
      ],
      "text/html": "<div>\n<style scoped>\n    .dataframe tbody tr th:only-of-type {\n        vertical-align: middle;\n    }\n\n    .dataframe tbody tr th {\n        vertical-align: top;\n    }\n\n    .dataframe thead th {\n        text-align: right;\n    }\n</style>\n<table border=\"1\" class=\"dataframe\">\n  <thead>\n    <tr style=\"text-align: right;\">\n      <th></th>\n      <th>P</th>\n      <th>Age</th>\n      <th>Sex</th>\n      <th>CDate</th>\n      <th>CCity</th>\n      <th>CState</th>\n      <th>Ccountry-iso_alpha</th>\n      <th>Mem</th>\n      <th>3Wrds</th>\n      <th>ColorB</th>\n      <th>...</th>\n      <th>MemCScore</th>\n      <th>MemPScore</th>\n      <th>MemNScore</th>\n      <th>3WCScore</th>\n      <th>3WPScore</th>\n      <th>3WNScore</th>\n      <th>ColCScore</th>\n      <th>ColPScore</th>\n      <th>ColNScore</th>\n      <th>Mem3CScore</th>\n    </tr>\n  </thead>\n  <tbody>\n    <tr>\n      <th>0</th>\n      <td>A</td>\n      <td>25-40</td>\n      <td>Female</td>\n      <td>2020-03-11</td>\n      <td>Surrey</td>\n      <td>British Columbia</td>\n      <td>CAN</td>\n      <td>I recall having a team meeting at work with lo...</td>\n      <td>Fun, overwhelming, tiring</td>\n      <td>I have no color deficiency.</td>\n      <td>...</td>\n      <td>0.5562</td>\n      <td>0.072</td>\n      <td>0.000</td>\n      <td>0.5106</td>\n      <td>0.623</td>\n      <td>0.000</td>\n      <td>0.0000</td>\n      <td>0.000</td>\n      <td>0.000</td>\n      <td>0.53340</td>\n    </tr>\n    <tr>\n      <th>1</th>\n      <td>B</td>\n      <td>25-40</td>\n      <td>Female</td>\n      <td>2020-01-24</td>\n      <td>Brooklyn</td>\n      <td>New York</td>\n      <td>USA</td>\n      <td>A lot of things came to my mind. It was hard t...</td>\n      <td>Chinese, friendly, funny</td>\n      <td>I have no color deficiency.</td>\n      <td>...</td>\n      <td>0.8772</td>\n      <td>0.077</td>\n      <td>0.049</td>\n      <td>0.7269</td>\n      <td>0.859</td>\n      <td>0.000</td>\n      <td>0.0000</td>\n      <td>0.000</td>\n      <td>0.000</td>\n      <td>0.80205</td>\n    </tr>\n    <tr>\n      <th>2</th>\n      <td>C</td>\n      <td>41-55</td>\n      <td>Female</td>\n      <td>2020-03-13</td>\n      <td>Brooklyn</td>\n      <td>New York</td>\n      <td>USA</td>\n      <td>It was the day that I learned that public scho...</td>\n      <td>disbelief, confusion, concern</td>\n      <td>I have no color deficiency.</td>\n      <td>...</td>\n      <td>0.0000</td>\n      <td>0.000</td>\n      <td>0.000</td>\n      <td>-0.2960</td>\n      <td>0.000</td>\n      <td>0.524</td>\n      <td>0.0000</td>\n      <td>0.000</td>\n      <td>0.000</td>\n      <td>-0.14800</td>\n    </tr>\n    <tr>\n      <th>3</th>\n      <td>D</td>\n      <td>25-40</td>\n      <td>Female</td>\n      <td>2020-03-30</td>\n      <td>Radford</td>\n      <td>Virgina</td>\n      <td>USA</td>\n      <td>My Grandmother passed away and we couldn’t gri...</td>\n      <td>Angry, Sunken, bitter</td>\n      <td>I have no color deficiency.</td>\n      <td>...</td>\n      <td>-0.8834</td>\n      <td>0.066</td>\n      <td>0.176</td>\n      <td>-0.7269</td>\n      <td>0.000</td>\n      <td>0.859</td>\n      <td>-0.0772</td>\n      <td>0.301</td>\n      <td>0.337</td>\n      <td>-0.80515</td>\n    </tr>\n    <tr>\n      <th>4</th>\n      <td>E</td>\n      <td>25-40</td>\n      <td>Male</td>\n      <td>2020-03-08</td>\n      <td>Newark</td>\n      <td>New Jersey</td>\n      <td>USA</td>\n      <td>I hope this doesn’t feel like too ‘silly’ of a...</td>\n      <td>Exhilarating, overindulgent, inspiring</td>\n      <td>I have no color deficiency.</td>\n      <td>...</td>\n      <td>0.9354</td>\n      <td>0.107</td>\n      <td>0.051</td>\n      <td>0.6705</td>\n      <td>0.846</td>\n      <td>0.000</td>\n      <td>0.0000</td>\n      <td>0.000</td>\n      <td>0.000</td>\n      <td>0.80295</td>\n    </tr>\n    <tr>\n      <th>5</th>\n      <td>F</td>\n      <td>25-40</td>\n      <td>Female</td>\n      <td>2020-03-16</td>\n      <td>Charlotte</td>\n      <td>North Carolina</td>\n      <td>USA</td>\n      <td>It was the day I broke down and almost ruined ...</td>\n      <td>stressful, upset, hysterical</td>\n      <td>I have no color deficiency.</td>\n      <td>...</td>\n      <td>-0.8951</td>\n      <td>0.080</td>\n      <td>0.161</td>\n      <td>-0.7184</td>\n      <td>0.000</td>\n      <td>1.000</td>\n      <td>-0.9618</td>\n      <td>0.087</td>\n      <td>0.507</td>\n      <td>-0.80675</td>\n    </tr>\n    <tr>\n      <th>6</th>\n      <td>G</td>\n      <td>25-40</td>\n      <td>NaN</td>\n      <td>2020-08-02</td>\n      <td>Sunnyside</td>\n      <td>New York</td>\n      <td>USA</td>\n      <td>Based on your parameters this was part of the ...</td>\n      <td>Relief, pain, anxious</td>\n      <td>I have no color deficiency.</td>\n      <td>...</td>\n      <td>-0.2714</td>\n      <td>0.000</td>\n      <td>0.027</td>\n      <td>-0.2960</td>\n      <td>0.369</td>\n      <td>0.631</td>\n      <td>0.7506</td>\n      <td>0.615</td>\n      <td>0.000</td>\n      <td>-0.28370</td>\n    </tr>\n    <tr>\n      <th>7</th>\n      <td>H</td>\n      <td>18-24</td>\n      <td>Female</td>\n      <td>2020-03-17</td>\n      <td>East Meadow</td>\n      <td>New York</td>\n      <td>USA</td>\n      <td>This is the date that everything closed down. ...</td>\n      <td>Scared, surreal, worried</td>\n      <td>I have no color deficiency.</td>\n      <td>...</td>\n      <td>-0.6453</td>\n      <td>0.000</td>\n      <td>0.109</td>\n      <td>-0.6249</td>\n      <td>0.000</td>\n      <td>0.836</td>\n      <td>0.1761</td>\n      <td>0.151</td>\n      <td>0.160</td>\n      <td>-0.63510</td>\n    </tr>\n    <tr>\n      <th>8</th>\n      <td>I</td>\n      <td>25-40</td>\n      <td>Male</td>\n      <td>2020-05-31</td>\n      <td>Philadephia</td>\n      <td>Pennsylvania</td>\n      <td>USA</td>\n      <td>Attended my first public gathering in protest....</td>\n      <td>enlightening, freeing, powerful</td>\n      <td>I have no color deficiency.</td>\n      <td>...</td>\n      <td>0.9274</td>\n      <td>0.174</td>\n      <td>0.053</td>\n      <td>0.8481</td>\n      <td>1.000</td>\n      <td>0.000</td>\n      <td>0.0000</td>\n      <td>0.000</td>\n      <td>0.000</td>\n      <td>0.88775</td>\n    </tr>\n    <tr>\n      <th>9</th>\n      <td>J</td>\n      <td>41-55</td>\n      <td>Female</td>\n      <td>2020-03-10</td>\n      <td>Quezon City</td>\n      <td>None</td>\n      <td>PHL</td>\n      <td>My mother in law passed away</td>\n      <td>scared, panicked, confused</td>\n      <td>I have no color deficiency.</td>\n      <td>...</td>\n      <td>0.0000</td>\n      <td>0.000</td>\n      <td>0.000</td>\n      <td>-0.8020</td>\n      <td>0.000</td>\n      <td>1.000</td>\n      <td>-0.8945</td>\n      <td>0.142</td>\n      <td>0.376</td>\n      <td>-0.40100</td>\n    </tr>\n    <tr>\n      <th>10</th>\n      <td>K</td>\n      <td>25-40</td>\n      <td>Female</td>\n      <td>2020-03-11</td>\n      <td>Fair Lawn</td>\n      <td>New Jersey</td>\n      <td>USA</td>\n      <td>So, on this data, I received notification that...</td>\n      <td>Anxious, Unnerved, Fearful</td>\n      <td>I have no color deficiency.</td>\n      <td>...</td>\n      <td>-0.1531</td>\n      <td>0.020</td>\n      <td>0.024</td>\n      <td>-0.6369</td>\n      <td>0.000</td>\n      <td>0.839</td>\n      <td>-0.4019</td>\n      <td>0.000</td>\n      <td>0.091</td>\n      <td>-0.39500</td>\n    </tr>\n    <tr>\n      <th>11</th>\n      <td>L</td>\n      <td>25-40</td>\n      <td>Female</td>\n      <td>2020-03-07</td>\n      <td>Brooklyn</td>\n      <td>New York</td>\n      <td>USA</td>\n      <td>It was the last time we got together with abou...</td>\n      <td>Happy, fun, unaware</td>\n      <td>I have no color deficiency.</td>\n      <td>...</td>\n      <td>0.2617</td>\n      <td>0.054</td>\n      <td>0.000</td>\n      <td>0.7351</td>\n      <td>0.795</td>\n      <td>0.205</td>\n      <td>-0.1362</td>\n      <td>0.220</td>\n      <td>0.193</td>\n      <td>0.49840</td>\n    </tr>\n    <tr>\n      <th>12</th>\n      <td>M</td>\n      <td>25-40</td>\n      <td>Female</td>\n      <td>2020-05-29</td>\n      <td>Brooklyn</td>\n      <td>New York</td>\n      <td>USA</td>\n      <td>On May 29th 2020 I put down my dog who had bee...</td>\n      <td>Empty, grim, fake.</td>\n      <td>I have no color deficiency.</td>\n      <td>...</td>\n      <td>0.8512</td>\n      <td>0.115</td>\n      <td>0.067</td>\n      <td>-0.8225</td>\n      <td>0.000</td>\n      <td>1.000</td>\n      <td>0.1901</td>\n      <td>0.089</td>\n      <td>0.000</td>\n      <td>0.01435</td>\n    </tr>\n    <tr>\n      <th>13</th>\n      <td>N</td>\n      <td>25-40</td>\n      <td>Male</td>\n      <td>2020-03-22</td>\n      <td>Paterson</td>\n      <td>New Jersey</td>\n      <td>USA</td>\n      <td>It was the day that the NJ statewide curfew be...</td>\n      <td>fearful, anxious, worried</td>\n      <td>I have no color deficiency.</td>\n      <td>...</td>\n      <td>0.4404</td>\n      <td>0.098</td>\n      <td>0.000</td>\n      <td>-0.7506</td>\n      <td>0.000</td>\n      <td>1.000</td>\n      <td>-0.8658</td>\n      <td>0.000</td>\n      <td>0.416</td>\n      <td>-0.15510</td>\n    </tr>\n  </tbody>\n</table>\n<p>14 rows × 25 columns</p>\n</div>"
     },
     "metadata": {},
     "execution_count": 57
    }
   ],
   "source": [
    "df_memall = (df_covidtext.merge(df_memcorpus))\n",
    "df_memall"
   ]
  },
  {
   "cell_type": "code",
   "execution_count": 58,
   "metadata": {},
   "outputs": [],
   "source": [
    "# Save memall to pickle file\n",
    "df_memall.to_pickle(\"../data/df_memall.pickle\")"
   ]
  },
  {
   "cell_type": "code",
   "execution_count": 59,
   "metadata": {},
   "outputs": [
    {
     "output_type": "execute_result",
     "data": {
      "text/plain": [
       "   P  Age  Sex      CDate  CCity  CState  Ccountry-iso_alpha  Mem  3Wrds  \\\n",
       "0  0    1    0 2020-03-11     10       0                   0    4      5   \n",
       "1  1    1    0 2020-01-24      0       2                   2    0      2   \n",
       "2  2    2    0 2020-03-13      0       2                   2    6      9   \n",
       "3  3    1    0 2020-03-30      8       6                   2    9      0   \n",
       "4  4    1    1 2020-03-08      4       1                   2    3      4   \n",
       "\n",
       "   ColorB  ...  MemCScore  MemPScore  MemNScore  3WCScore  3WPScore  3WNScore  \\\n",
       "0       0  ...     0.5562      0.072      0.000    0.5106     0.623     0.000   \n",
       "1       0  ...     0.8772      0.077      0.049    0.7269     0.859     0.000   \n",
       "2       0  ...     0.0000      0.000      0.000   -0.2960     0.000     0.524   \n",
       "3       0  ...    -0.8834      0.066      0.176   -0.7269     0.000     0.859   \n",
       "4       0  ...     0.9354      0.107      0.051    0.6705     0.846     0.000   \n",
       "\n",
       "   ColCScore  ColPScore  ColNScore  Mem3CScore  \n",
       "0     0.0000      0.000      0.000     0.53340  \n",
       "1     0.0000      0.000      0.000     0.80205  \n",
       "2     0.0000      0.000      0.000    -0.14800  \n",
       "3    -0.0772      0.301      0.337    -0.80515  \n",
       "4     0.0000      0.000      0.000     0.80295  \n",
       "\n",
       "[5 rows x 25 columns]"
      ],
      "text/html": "<div>\n<style scoped>\n    .dataframe tbody tr th:only-of-type {\n        vertical-align: middle;\n    }\n\n    .dataframe tbody tr th {\n        vertical-align: top;\n    }\n\n    .dataframe thead th {\n        text-align: right;\n    }\n</style>\n<table border=\"1\" class=\"dataframe\">\n  <thead>\n    <tr style=\"text-align: right;\">\n      <th></th>\n      <th>P</th>\n      <th>Age</th>\n      <th>Sex</th>\n      <th>CDate</th>\n      <th>CCity</th>\n      <th>CState</th>\n      <th>Ccountry-iso_alpha</th>\n      <th>Mem</th>\n      <th>3Wrds</th>\n      <th>ColorB</th>\n      <th>...</th>\n      <th>MemCScore</th>\n      <th>MemPScore</th>\n      <th>MemNScore</th>\n      <th>3WCScore</th>\n      <th>3WPScore</th>\n      <th>3WNScore</th>\n      <th>ColCScore</th>\n      <th>ColPScore</th>\n      <th>ColNScore</th>\n      <th>Mem3CScore</th>\n    </tr>\n  </thead>\n  <tbody>\n    <tr>\n      <th>0</th>\n      <td>0</td>\n      <td>1</td>\n      <td>0</td>\n      <td>2020-03-11</td>\n      <td>10</td>\n      <td>0</td>\n      <td>0</td>\n      <td>4</td>\n      <td>5</td>\n      <td>0</td>\n      <td>...</td>\n      <td>0.5562</td>\n      <td>0.072</td>\n      <td>0.000</td>\n      <td>0.5106</td>\n      <td>0.623</td>\n      <td>0.000</td>\n      <td>0.0000</td>\n      <td>0.000</td>\n      <td>0.000</td>\n      <td>0.53340</td>\n    </tr>\n    <tr>\n      <th>1</th>\n      <td>1</td>\n      <td>1</td>\n      <td>0</td>\n      <td>2020-01-24</td>\n      <td>0</td>\n      <td>2</td>\n      <td>2</td>\n      <td>0</td>\n      <td>2</td>\n      <td>0</td>\n      <td>...</td>\n      <td>0.8772</td>\n      <td>0.077</td>\n      <td>0.049</td>\n      <td>0.7269</td>\n      <td>0.859</td>\n      <td>0.000</td>\n      <td>0.0000</td>\n      <td>0.000</td>\n      <td>0.000</td>\n      <td>0.80205</td>\n    </tr>\n    <tr>\n      <th>2</th>\n      <td>2</td>\n      <td>2</td>\n      <td>0</td>\n      <td>2020-03-13</td>\n      <td>0</td>\n      <td>2</td>\n      <td>2</td>\n      <td>6</td>\n      <td>9</td>\n      <td>0</td>\n      <td>...</td>\n      <td>0.0000</td>\n      <td>0.000</td>\n      <td>0.000</td>\n      <td>-0.2960</td>\n      <td>0.000</td>\n      <td>0.524</td>\n      <td>0.0000</td>\n      <td>0.000</td>\n      <td>0.000</td>\n      <td>-0.14800</td>\n    </tr>\n    <tr>\n      <th>3</th>\n      <td>3</td>\n      <td>1</td>\n      <td>0</td>\n      <td>2020-03-30</td>\n      <td>8</td>\n      <td>6</td>\n      <td>2</td>\n      <td>9</td>\n      <td>0</td>\n      <td>0</td>\n      <td>...</td>\n      <td>-0.8834</td>\n      <td>0.066</td>\n      <td>0.176</td>\n      <td>-0.7269</td>\n      <td>0.000</td>\n      <td>0.859</td>\n      <td>-0.0772</td>\n      <td>0.301</td>\n      <td>0.337</td>\n      <td>-0.80515</td>\n    </tr>\n    <tr>\n      <th>4</th>\n      <td>4</td>\n      <td>1</td>\n      <td>1</td>\n      <td>2020-03-08</td>\n      <td>4</td>\n      <td>1</td>\n      <td>2</td>\n      <td>3</td>\n      <td>4</td>\n      <td>0</td>\n      <td>...</td>\n      <td>0.9354</td>\n      <td>0.107</td>\n      <td>0.051</td>\n      <td>0.6705</td>\n      <td>0.846</td>\n      <td>0.000</td>\n      <td>0.0000</td>\n      <td>0.000</td>\n      <td>0.000</td>\n      <td>0.80295</td>\n    </tr>\n  </tbody>\n</table>\n<p>5 rows × 25 columns</p>\n</div>"
     },
     "metadata": {},
     "execution_count": 59
    }
   ],
   "source": [
    "# encode df_memall\n",
    "le = LabelEncoder()\n",
    "# go through the df and find the ones of object type\n",
    "for col in df_memall:\n",
    "    if df_memall[col].dtype == 'object':\n",
    "        # use the labelencoder to transform to numeric\n",
    "        df_memall[col] = le.fit_transform(df_memall[col])\n",
    "\n",
    "# view modified df\n",
    "df_memall.head()"
   ]
  },
  {
   "cell_type": "code",
   "execution_count": 73,
   "metadata": {},
   "outputs": [
    {
     "output_type": "display_data",
     "data": {
      "text/plain": "<Figure size 2160x2160 with 0 Axes>"
     },
     "metadata": {}
    },
    {
     "output_type": "display_data",
     "data": {
      "text/plain": "<Figure size 2160x2160 with 2 Axes>",
      "image/png": "[encoded data removed]"
     },
     "metadata": {
      "needs_background": "light"
     }
    }
   ],
   "source": [
    "# Look for correlations\n",
    "plt.figure(figsize=(30,30))\n",
    "corr_matrix = plt.figure(figsize=(30,30))\n",
    "corr_matrix = df_memall.corr()\n",
    "ax = sns.heatmap(corr_matrix, vmin=-1, vmax=1, center=0,\n",
    "    cmap=sns.diverging_palette(20, 220, n=200),\n",
    "    square=True)\n",
    "# ax.set_xticklabels(ax.get_xticklabels(),rotation=45,\n",
    "#     horizontalalignment='right');\n",
    "# ax.set_yticklabels(ax.get_xticklabels(),rotation=45,\n",
    "#     horizontalalignment='right');\n",
    "\n",
    "plt.title('Feature Correlations')\n",
    "plt.savefig(\"../images/featurecorr.png\")\n",
    "plt.show()"
   ]
  },
  {
   "cell_type": "code",
   "execution_count": 64,
   "metadata": {},
   "outputs": [
    {
     "output_type": "stream",
     "name": "stdout",
     "text": [
      "Corr Sex - MemCScore: 0.19334174536486876\nCorr MemCScore - ColCScore: 0.1811497996138786\nCorr Sex - ColCScore: 0.3648902484675236\nCorr MemCScore - CDmm-dd: -0.2117543246001483\n"
     ]
    }
   ],
   "source": [
    "print(\"Corr Sex - MemCScore:\", df_memall['Sex'].corr(df_memall['MemCScore']))\n",
    "print(\"Corr MemCScore - ColCScore:\", df_memall['MemCScore'].corr(df_memall['ColCScore']))\n",
    "print(\"Corr Sex - ColCScore:\", df_memall['Sex'].corr(df_memall['ColCScore']))\n",
    "print(\"Corr MemCScore - CDmm-dd:\", df_memall['MemCScore'].corr(df_memall['CDmm-dd']))"
   ]
  },
  {
   "cell_type": "code",
   "execution_count": 65,
   "metadata": {},
   "outputs": [
    {
     "output_type": "stream",
     "name": "stdout",
     "text": [
      "Corr Sex - Mem3CScore: 0.20097587285181875\n"
     ]
    }
   ],
   "source": [
    "print(\"Corr Sex - Mem3CScore:\", df_memall['Sex'].corr(df_memall['Mem3CScore']))\n",
    "# print(\"Corr MemCScore - ColCScore:\", df_memall['MemCScore'].corr(df_memall['ColCScore']))\n",
    "# print(\"Corr Sex - ColCScore:\", df_memall['Sex'].corr(df_memall['ColCScore']))\n",
    "# print(\"Corr MemCScore - CDmm-dd:\", df_memall['MemCScore'].corr(df_memall['CDmm-dd']))"
   ]
  },
  {
   "cell_type": "code",
   "execution_count": null,
   "metadata": {},
   "outputs": [],
   "source": [
    "# CONTINUE WITH TOPIC MODELING"
   ]
  }
 ]
}